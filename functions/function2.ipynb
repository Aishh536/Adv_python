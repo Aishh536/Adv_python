{
 "cells": [
  {
   "cell_type": "markdown",
   "id": "0a91222c",
   "metadata": {},
   "source": [
    "# create decorator for the calculate time"
   ]
  },
  {
   "cell_type": "code",
   "execution_count": 3,
   "id": "0d30a4ea",
   "metadata": {},
   "outputs": [
    {
     "name": "stdout",
     "output_type": "stream",
     "text": [
      "Collecting datetime\n",
      "  Downloading DateTime-5.5-py3-none-any.whl.metadata (33 kB)\n",
      "Requirement already satisfied: zope.interface in c:\\users\\aishw\\anaconda3\\lib\\site-packages (from datetime) (5.4.0)\n",
      "Requirement already satisfied: pytz in c:\\users\\aishw\\anaconda3\\lib\\site-packages (from datetime) (2024.1)\n",
      "Requirement already satisfied: setuptools in c:\\users\\aishw\\anaconda3\\lib\\site-packages (from zope.interface->datetime) (75.1.0)\n",
      "Downloading DateTime-5.5-py3-none-any.whl (52 kB)\n",
      "Installing collected packages: datetime\n",
      "Successfully installed datetime-5.5\n",
      "Note: you may need to restart the kernel to use updated packages.\n"
     ]
    }
   ],
   "source": [
    "%pip install datetime"
   ]
  },
  {
   "cell_type": "code",
   "execution_count": 1,
   "id": "f3390efd",
   "metadata": {},
   "outputs": [],
   "source": [
    "import datetime"
   ]
  },
  {
   "cell_type": "code",
   "execution_count": 15,
   "id": "63392310",
   "metadata": {},
   "outputs": [],
   "source": [
    "from datetime import timedelta"
   ]
  },
  {
   "cell_type": "code",
   "execution_count": 16,
   "id": "ceef5bbc",
   "metadata": {},
   "outputs": [],
   "source": [
    "def total_time(func):\n",
    "    def wrapper(*args , **kwargs):\n",
    "        start = timedelta()\n",
    "        result = func(*args , **kwargs)\n",
    "        end  = timedelta()\n",
    "        elapsed_time = end - start\n",
    "        print(f'elapsed time is {elapsed_time} seconds')\n",
    "        print(result)\n",
    "    return wrapper   "
   ]
  },
  {
   "cell_type": "code",
   "execution_count": 17,
   "id": "587dd4c4",
   "metadata": {},
   "outputs": [],
   "source": [
    "@total_time\n",
    "def compound_interest(P,N,R):\n",
    "    \"\"\"\n",
    "    PNR\n",
    "    \"\"\"\n",
    "    A=P*(1+R/100)**N\n",
    "    I=A-P\n",
    "    print(f'Total amount to be return {A}')\n",
    "    print(f'Compound Interest {I}')"
   ]
  },
  {
   "cell_type": "code",
   "execution_count": 18,
   "id": "0d38de1f",
   "metadata": {},
   "outputs": [
    {
     "name": "stdout",
     "output_type": "stream",
     "text": [
      "Total amount to be return 53045.0\n",
      "Compound Interest 3045.0\n",
      "elapsed time is 0:00:00 seconds\n",
      "None\n"
     ]
    }
   ],
   "source": [
    "compound_interest(50000,2,3)"
   ]
  },
  {
   "cell_type": "code",
   "execution_count": 12,
   "id": "58d0fc18",
   "metadata": {},
   "outputs": [],
   "source": [
    "@total_time\n",
    "def add(a,b):\n",
    "    print(a+b)\n"
   ]
  },
  {
   "cell_type": "code",
   "execution_count": 14,
   "id": "be7d0539",
   "metadata": {},
   "outputs": [
    {
     "name": "stdout",
     "output_type": "stream",
     "text": [
      "Note: you may need to restart the kernel to use updated packages.\n"
     ]
    },
    {
     "name": "stderr",
     "output_type": "stream",
     "text": [
      "ERROR: Could not find a version that satisfies the requirement time (from versions: none)\n",
      "ERROR: No matching distribution found for time\n"
     ]
    }
   ],
   "source": [
    "%pip install time"
   ]
  },
  {
   "cell_type": "code",
   "execution_count": null,
   "id": "a27aa0f5",
   "metadata": {},
   "outputs": [],
   "source": []
  },
  {
   "cell_type": "code",
   "execution_count": null,
   "id": "5e491454",
   "metadata": {},
   "outputs": [],
   "source": []
  },
  {
   "cell_type": "code",
   "execution_count": null,
   "id": "f2c11057",
   "metadata": {},
   "outputs": [],
   "source": []
  },
  {
   "cell_type": "code",
   "execution_count": null,
   "id": "c3273087",
   "metadata": {},
   "outputs": [],
   "source": []
  },
  {
   "cell_type": "code",
   "execution_count": null,
   "id": "35086972",
   "metadata": {},
   "outputs": [],
   "source": []
  },
  {
   "cell_type": "code",
   "execution_count": null,
   "id": "b3e7635c",
   "metadata": {},
   "outputs": [],
   "source": []
  },
  {
   "cell_type": "code",
   "execution_count": null,
   "id": "d47318a7",
   "metadata": {},
   "outputs": [],
   "source": []
  }
 ],
 "metadata": {
  "kernelspec": {
   "display_name": "base",
   "language": "python",
   "name": "python3"
  },
  "language_info": {
   "codemirror_mode": {
    "name": "ipython",
    "version": 3
   },
   "file_extension": ".py",
   "mimetype": "text/x-python",
   "name": "python",
   "nbconvert_exporter": "python",
   "pygments_lexer": "ipython3",
   "version": "3.12.7"
  }
 },
 "nbformat": 4,
 "nbformat_minor": 5
}
