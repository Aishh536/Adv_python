{
 "cells": [
  {
   "cell_type": "code",
   "execution_count": 1,
   "id": "50aa5baa",
   "metadata": {},
   "outputs": [],
   "source": [
    "class Person :\n",
    "    def __init__(self , name , age):\n",
    "        self.name = name \n",
    "        self.age  =age \n",
    "\n",
    "    def introduce(self):\n",
    "        print(f'Hi there i am {self.name}')\n",
    "        print(f'I am {self.age} years Old')"
   ]
  },
  {
   "cell_type": "code",
   "execution_count": 2,
   "id": "a425bf5a",
   "metadata": {},
   "outputs": [],
   "source": [
    "p1  = Person(name = 'Suresh' , age  = 28)\n"
   ]
  },
  {
   "cell_type": "code",
   "execution_count": 3,
   "id": "46065feb",
   "metadata": {},
   "outputs": [
    {
     "data": {
      "text/plain": [
       "'Suresh'"
      ]
     },
     "execution_count": 3,
     "metadata": {},
     "output_type": "execute_result"
    }
   ],
   "source": [
    "p1.name"
   ]
  },
  {
   "cell_type": "code",
   "execution_count": 4,
   "id": "240631b8",
   "metadata": {},
   "outputs": [],
   "source": [
    "p2  = Person(name = 'umesh'  , age  =29)"
   ]
  },
  {
   "cell_type": "code",
   "execution_count": null,
   "id": "954eef16",
   "metadata": {},
   "outputs": [],
   "source": []
  },
  {
   "cell_type": "code",
   "execution_count": 5,
   "id": "c1a396c2",
   "metadata": {},
   "outputs": [
    {
     "name": "stdout",
     "output_type": "stream",
     "text": [
      "Hi there i am Suresh\n",
      "I am 28 years Old\n"
     ]
    }
   ],
   "source": [
    "p1.introduce()"
   ]
  },
  {
   "cell_type": "code",
   "execution_count": 23,
   "id": "601c2a8c",
   "metadata": {},
   "outputs": [],
   "source": [
    "class Employee(Person):\n",
    "    def __init__(self , name ,age ,Company) :\n",
    "       super().__init__(name,age)\n",
    "       self.Company= Company\n",
    "    \n",
    "    def work(self):\n",
    "        print(f'I work at{self.Company}')\n"
   ]
  },
  {
   "cell_type": "code",
   "execution_count": 24,
   "id": "131018cf",
   "metadata": {},
   "outputs": [],
   "source": [
    "e1 = Employee(name ='swara' ,age =23 ,Company ='TCS')"
   ]
  },
  {
   "cell_type": "code",
   "execution_count": 25,
   "id": "99647d03",
   "metadata": {},
   "outputs": [
    {
     "data": {
      "text/plain": [
       "'swara'"
      ]
     },
     "execution_count": 25,
     "metadata": {},
     "output_type": "execute_result"
    }
   ],
   "source": [
    "e1 .name"
   ]
  },
  {
   "cell_type": "code",
   "execution_count": 26,
   "id": "c142dd01",
   "metadata": {},
   "outputs": [
    {
     "data": {
      "text/plain": [
       "23"
      ]
     },
     "execution_count": 26,
     "metadata": {},
     "output_type": "execute_result"
    }
   ],
   "source": [
    "e1.age"
   ]
  },
  {
   "cell_type": "code",
   "execution_count": 27,
   "id": "b12db05c",
   "metadata": {},
   "outputs": [
    {
     "data": {
      "text/plain": [
       "'TCS'"
      ]
     },
     "execution_count": 27,
     "metadata": {},
     "output_type": "execute_result"
    }
   ],
   "source": [
    "e1.Company"
   ]
  },
  {
   "cell_type": "code",
   "execution_count": 28,
   "id": "177af713",
   "metadata": {},
   "outputs": [
    {
     "name": "stdout",
     "output_type": "stream",
     "text": [
      "I work atTCS\n"
     ]
    }
   ],
   "source": [
    "e1.work()"
   ]
  },
  {
   "cell_type": "code",
   "execution_count": 29,
   "id": "e40c1e98",
   "metadata": {},
   "outputs": [
    {
     "name": "stdout",
     "output_type": "stream",
     "text": [
      "Hi there i am swara\n",
      "I am 23 years Old\n"
     ]
    }
   ],
   "source": [
    "e1.introduce()"
   ]
  },
  {
   "cell_type": "code",
   "execution_count": 30,
   "id": "e8d29faa",
   "metadata": {},
   "outputs": [],
   "source": [
    "class Employee1(Person):\n",
    "    def __init__(self , name ,age ,Company) :\n",
    "       super().__init__(name,age)\n",
    "       self.Company= Company\n",
    "    \n",
    "    def work(self):\n",
    "        super().introduce()\n",
    "        print(f'I work at {self.Company}')"
   ]
  },
  {
   "cell_type": "code",
   "execution_count": 31,
   "id": "bdd4fcf8",
   "metadata": {},
   "outputs": [],
   "source": [
    "e2 =Employee1(name='Aishh',age =23,Company='IQVYA')"
   ]
  },
  {
   "cell_type": "code",
   "execution_count": 32,
   "id": "d9cc8130",
   "metadata": {},
   "outputs": [
    {
     "name": "stdout",
     "output_type": "stream",
     "text": [
      "<__main__.Employee1 object at 0x000001D46A2F4620>\n"
     ]
    }
   ],
   "source": [
    "print(e2)"
   ]
  },
  {
   "cell_type": "code",
   "execution_count": 33,
   "id": "0fdd9234",
   "metadata": {},
   "outputs": [
    {
     "data": {
      "text/plain": [
       "'Aishh'"
      ]
     },
     "execution_count": 33,
     "metadata": {},
     "output_type": "execute_result"
    }
   ],
   "source": [
    "e2.name"
   ]
  },
  {
   "cell_type": "code",
   "execution_count": 34,
   "id": "388b70c8",
   "metadata": {},
   "outputs": [
    {
     "data": {
      "text/plain": [
       "23"
      ]
     },
     "execution_count": 34,
     "metadata": {},
     "output_type": "execute_result"
    }
   ],
   "source": [
    "e2.age"
   ]
  },
  {
   "cell_type": "code",
   "execution_count": 35,
   "id": "b32b66d2",
   "metadata": {},
   "outputs": [
    {
     "data": {
      "text/plain": [
       "'IQVYA'"
      ]
     },
     "execution_count": 35,
     "metadata": {},
     "output_type": "execute_result"
    }
   ],
   "source": [
    "e2.Company"
   ]
  },
  {
   "cell_type": "code",
   "execution_count": 36,
   "id": "d4c8775e",
   "metadata": {},
   "outputs": [
    {
     "name": "stdout",
     "output_type": "stream",
     "text": [
      "Hi there i am Aishh\n",
      "I am 23 years Old\n",
      "I work at IQVYA\n"
     ]
    }
   ],
   "source": [
    "e2.work()"
   ]
  },
  {
   "cell_type": "code",
   "execution_count": 37,
   "id": "30ced221",
   "metadata": {},
   "outputs": [
    {
     "name": "stdout",
     "output_type": "stream",
     "text": [
      "Hi there i am Aishh\n",
      "I am 23 years Old\n"
     ]
    }
   ],
   "source": [
    "e2.introduce()"
   ]
  },
  {
   "cell_type": "code",
   "execution_count": 57,
   "id": "1a02c9ab",
   "metadata": {},
   "outputs": [],
   "source": [
    "class Employee1(Person):\n",
    "    def __init__(self , name ,age ,Company,salary) :\n",
    "       super().__init__(name,age)\n",
    "       self.Company= Company\n",
    "       self.salary =salary\n",
    "    \n",
    "    def work(self):\n",
    "        super().introduce()\n",
    "        print(f'I work at {self.Company}')\n",
    "\n",
    "    def salary_hike(self):\n",
    "        super().introduce()\n",
    "        print(f' My current salary is {self.salary} and after hike is {self.salary*1.10}RS')"
   ]
  },
  {
   "cell_type": "code",
   "execution_count": 58,
   "id": "6262dbcd",
   "metadata": {},
   "outputs": [],
   "source": [
    "e2 =Employee1(name='Aishh', age =23, Company='IQVYA' ,salary=35000)"
   ]
  },
  {
   "cell_type": "code",
   "execution_count": 59,
   "id": "aa25029f",
   "metadata": {},
   "outputs": [
    {
     "name": "stdout",
     "output_type": "stream",
     "text": [
      "Hi there i am Aishh\n",
      "I am 23 years Old\n",
      " My current salary is 35000 and after hike is 38500.0RS\n"
     ]
    }
   ],
   "source": [
    "e2.salary_hike()"
   ]
  },
  {
   "cell_type": "code",
   "execution_count": 60,
   "id": "bf568eb1",
   "metadata": {},
   "outputs": [
    {
     "name": "stdout",
     "output_type": "stream",
     "text": [
      "<__main__.Employee1 object at 0x000001D46A2EB6E0>\n"
     ]
    }
   ],
   "source": [
    "print(e2)"
   ]
  },
  {
   "cell_type": "code",
   "execution_count": 61,
   "id": "97d3547d",
   "metadata": {},
   "outputs": [
    {
     "data": {
      "text/plain": [
       "'Aishh'"
      ]
     },
     "execution_count": 61,
     "metadata": {},
     "output_type": "execute_result"
    }
   ],
   "source": [
    "e2.name"
   ]
  },
  {
   "cell_type": "code",
   "execution_count": 62,
   "id": "63974888",
   "metadata": {},
   "outputs": [
    {
     "data": {
      "text/plain": [
       "23"
      ]
     },
     "execution_count": 62,
     "metadata": {},
     "output_type": "execute_result"
    }
   ],
   "source": [
    "e2.age"
   ]
  },
  {
   "cell_type": "code",
   "execution_count": 63,
   "id": "600099c0",
   "metadata": {},
   "outputs": [
    {
     "data": {
      "text/plain": [
       "'IQVYA'"
      ]
     },
     "execution_count": 63,
     "metadata": {},
     "output_type": "execute_result"
    }
   ],
   "source": [
    "e2.Company"
   ]
  },
  {
   "cell_type": "code",
   "execution_count": 64,
   "id": "a361520a",
   "metadata": {},
   "outputs": [
    {
     "data": {
      "text/plain": [
       "35000"
      ]
     },
     "execution_count": 64,
     "metadata": {},
     "output_type": "execute_result"
    }
   ],
   "source": [
    "e2.salary"
   ]
  },
  {
   "cell_type": "markdown",
   "id": "83a61c8b",
   "metadata": {},
   "source": [
    "## multi level inheritance\n"
   ]
  },
  {
   "cell_type": "code",
   "execution_count": 171,
   "id": "a08c426d",
   "metadata": {},
   "outputs": [],
   "source": [
    "class Employee:\n",
    "    def __init__(self ,name,emp_id):\n",
    "        self.name = name\n",
    "        self.emp_id = emp_id\n",
    "\n",
    "    def get_employee_info(self):\n",
    "        print( f\"name is {self.name} and Employee id is {self.emp_id}\" )\n",
    "\n",
    "class Manager(Employee):\n",
    "    def __init__(self ,name:str ,emp_id:int ,department:str) :\n",
    "        super().__init__(name,emp_id)\n",
    "        self.department=department\n",
    "\n",
    "    def get_manager_info(self):\n",
    "        super().get_employee_info() \n",
    "        print( f'department:{self.department}')\n",
    "\n",
    "class ProjectManager(Manager):\n",
    "    def __init__(self,name,emp_id,department,project):\n",
    "         super().__init__(name,emp_id,department)\n",
    "         self.project= project\n",
    "\n",
    "    def get_project_manager_info(self):\n",
    "        super().get_manager_info()\n",
    "        print( f\"Project:{self.project}\")\n",
    "             "
   ]
  },
  {
   "cell_type": "code",
   "execution_count": 153,
   "id": "2c4a4061",
   "metadata": {},
   "outputs": [],
   "source": [
    "e1= Employee(name='Pooja',emp_id=1234)"
   ]
  },
  {
   "cell_type": "code",
   "execution_count": 154,
   "id": "4c5b18fe",
   "metadata": {},
   "outputs": [
    {
     "data": {
      "text/plain": [
       "'Pooja'"
      ]
     },
     "execution_count": 154,
     "metadata": {},
     "output_type": "execute_result"
    }
   ],
   "source": [
    "e1.name"
   ]
  },
  {
   "cell_type": "code",
   "execution_count": 155,
   "id": "84492fe4",
   "metadata": {},
   "outputs": [
    {
     "data": {
      "text/plain": [
       "1234"
      ]
     },
     "execution_count": 155,
     "metadata": {},
     "output_type": "execute_result"
    }
   ],
   "source": [
    "e1.emp_id"
   ]
  },
  {
   "cell_type": "code",
   "execution_count": 156,
   "id": "ed3b9142",
   "metadata": {},
   "outputs": [
    {
     "name": "stdout",
     "output_type": "stream",
     "text": [
      "name is Pooja and Employee id is 1234\n"
     ]
    }
   ],
   "source": [
    "e1.get_employee_info()"
   ]
  },
  {
   "cell_type": "code",
   "execution_count": 157,
   "id": "e8e9c058",
   "metadata": {},
   "outputs": [],
   "source": [
    "m1=Manager(name=\"raj\",emp_id=5678,department='HR')"
   ]
  },
  {
   "cell_type": "code",
   "execution_count": 158,
   "id": "e3bd94cf",
   "metadata": {},
   "outputs": [
    {
     "data": {
      "text/plain": [
       "'raj'"
      ]
     },
     "execution_count": 158,
     "metadata": {},
     "output_type": "execute_result"
    }
   ],
   "source": [
    "m1.name"
   ]
  },
  {
   "cell_type": "code",
   "execution_count": 159,
   "id": "923107c2",
   "metadata": {},
   "outputs": [
    {
     "data": {
      "text/plain": [
       "5678"
      ]
     },
     "execution_count": 159,
     "metadata": {},
     "output_type": "execute_result"
    }
   ],
   "source": [
    "m1.emp_id"
   ]
  },
  {
   "cell_type": "code",
   "execution_count": 160,
   "id": "1df7d706",
   "metadata": {},
   "outputs": [
    {
     "data": {
      "text/plain": [
       "'HR'"
      ]
     },
     "execution_count": 160,
     "metadata": {},
     "output_type": "execute_result"
    }
   ],
   "source": [
    "m1.department"
   ]
  },
  {
   "cell_type": "code",
   "execution_count": 161,
   "id": "07f6261b",
   "metadata": {},
   "outputs": [
    {
     "name": "stdout",
     "output_type": "stream",
     "text": [
      "name is raj and Employee id is 5678\n"
     ]
    }
   ],
   "source": [
    "m1.get_employee_info()"
   ]
  },
  {
   "cell_type": "code",
   "execution_count": 162,
   "id": "764f2f19",
   "metadata": {},
   "outputs": [
    {
     "name": "stdout",
     "output_type": "stream",
     "text": [
      "name is raj and Employee id is 5678\n",
      "department:HR\n"
     ]
    }
   ],
   "source": [
    "m1.get_manager_info()"
   ]
  },
  {
   "cell_type": "code",
   "execution_count": 172,
   "id": "50c3188c",
   "metadata": {},
   "outputs": [],
   "source": [
    "pm=ProjectManager(name=\"Rajni\",emp_id=78,department='AI',project=\"Artificial inteligence\")"
   ]
  },
  {
   "cell_type": "code",
   "execution_count": 173,
   "id": "2961892c",
   "metadata": {},
   "outputs": [
    {
     "data": {
      "text/plain": [
       "'Rajni'"
      ]
     },
     "execution_count": 173,
     "metadata": {},
     "output_type": "execute_result"
    }
   ],
   "source": [
    "pm.name"
   ]
  },
  {
   "cell_type": "code",
   "execution_count": 174,
   "id": "f745323c",
   "metadata": {},
   "outputs": [
    {
     "data": {
      "text/plain": [
       "78"
      ]
     },
     "execution_count": 174,
     "metadata": {},
     "output_type": "execute_result"
    }
   ],
   "source": [
    "pm.emp_id"
   ]
  },
  {
   "cell_type": "code",
   "execution_count": 175,
   "id": "db777861",
   "metadata": {},
   "outputs": [
    {
     "data": {
      "text/plain": [
       "'AI'"
      ]
     },
     "execution_count": 175,
     "metadata": {},
     "output_type": "execute_result"
    }
   ],
   "source": [
    "pm.department"
   ]
  },
  {
   "cell_type": "code",
   "execution_count": 176,
   "id": "5337aa7e",
   "metadata": {},
   "outputs": [
    {
     "data": {
      "text/plain": [
       "'Artificial inteligence'"
      ]
     },
     "execution_count": 176,
     "metadata": {},
     "output_type": "execute_result"
    }
   ],
   "source": [
    "pm.project"
   ]
  },
  {
   "cell_type": "code",
   "execution_count": 177,
   "id": "3e281d11",
   "metadata": {},
   "outputs": [
    {
     "name": "stdout",
     "output_type": "stream",
     "text": [
      "name is Rajni and Employee id is 78\n"
     ]
    }
   ],
   "source": [
    "pm.get_employee_info()\n"
   ]
  },
  {
   "cell_type": "code",
   "execution_count": 178,
   "id": "1a7844b0",
   "metadata": {},
   "outputs": [
    {
     "name": "stdout",
     "output_type": "stream",
     "text": [
      "name is Rajni and Employee id is 78\n",
      "department:AI\n"
     ]
    }
   ],
   "source": [
    "pm.get_manager_info()"
   ]
  },
  {
   "cell_type": "code",
   "execution_count": 179,
   "id": "dd9de82e",
   "metadata": {},
   "outputs": [
    {
     "name": "stdout",
     "output_type": "stream",
     "text": [
      "name is Rajni and Employee id is 78\n",
      "department:AI\n",
      "Project:Artificial inteligence\n"
     ]
    }
   ],
   "source": [
    "pm.get_project_manager_info()"
   ]
  },
  {
   "cell_type": "code",
   "execution_count": null,
   "id": "4e0b8d41",
   "metadata": {},
   "outputs": [],
   "source": [
    "## multilevel inheritance"
   ]
  },
  {
   "cell_type": "code",
   "execution_count": 1,
   "id": "27f5199b",
   "metadata": {},
   "outputs": [],
   "source": [
    "from dataclasses import dataclass"
   ]
  },
  {
   "cell_type": "code",
   "execution_count": 60,
   "id": "d12058fa",
   "metadata": {},
   "outputs": [],
   "source": [
    "@dataclass\n",
    "class User:\n",
    "    name:str\n",
    "    email :str\n",
    "\n",
    "    def get_user_info(self):\n",
    "        print('name is-->',self.name)\n",
    "        print('email is -->',self.email)\n",
    "\n",
    "class Admin(User):\n",
    "    def __init__(self,name,email,access):\n",
    "        super().__init__(name,email)   \n",
    "        self.access= access\n",
    "\n",
    "    def get_admin_info(self):\n",
    "        super().get_user_info()\n",
    "        print(f'access:{self.access}')    \n",
    "\n",
    "class RegularUser(User):\n",
    "    def __init__(self,name,email,subscription : bool):\n",
    "        super().__init__(name,email) \n",
    "        self.subscription = subscription\n",
    "\n",
    "    def get_RegularUser_info(self):\n",
    "        super(). get_user_info() \n",
    "        print(f'subscription :{self.subscription}')         "
   ]
  },
  {
   "cell_type": "code",
   "execution_count": 61,
   "id": "1e7a0063",
   "metadata": {},
   "outputs": [],
   "source": [
    "u1 =User(name='Aishh',email='Aishh@123.com')"
   ]
  },
  {
   "cell_type": "code",
   "execution_count": 62,
   "id": "5ad82849",
   "metadata": {},
   "outputs": [
    {
     "data": {
      "text/plain": [
       "'Aishh'"
      ]
     },
     "execution_count": 62,
     "metadata": {},
     "output_type": "execute_result"
    }
   ],
   "source": [
    "u1.name"
   ]
  },
  {
   "cell_type": "code",
   "execution_count": 63,
   "id": "c0c41871",
   "metadata": {},
   "outputs": [
    {
     "data": {
      "text/plain": [
       "'Aishh@123.com'"
      ]
     },
     "execution_count": 63,
     "metadata": {},
     "output_type": "execute_result"
    }
   ],
   "source": [
    "u1.email"
   ]
  },
  {
   "cell_type": "code",
   "execution_count": 64,
   "id": "23dc2fe5",
   "metadata": {},
   "outputs": [],
   "source": [
    "a1 =Admin(name='Shreesha' ,email='shreesha@123',access='partial')"
   ]
  },
  {
   "cell_type": "code",
   "execution_count": 65,
   "id": "32536604",
   "metadata": {},
   "outputs": [
    {
     "name": "stdout",
     "output_type": "stream",
     "text": [
      "Shreesha\n"
     ]
    }
   ],
   "source": [
    "print(a1.name)"
   ]
  },
  {
   "cell_type": "code",
   "execution_count": 66,
   "id": "0152cdd1",
   "metadata": {},
   "outputs": [
    {
     "name": "stdout",
     "output_type": "stream",
     "text": [
      "shreesha@123\n"
     ]
    }
   ],
   "source": [
    "print(a1.email)"
   ]
  },
  {
   "cell_type": "code",
   "execution_count": 67,
   "id": "c485c7f6",
   "metadata": {},
   "outputs": [
    {
     "name": "stdout",
     "output_type": "stream",
     "text": [
      "partial\n"
     ]
    }
   ],
   "source": [
    "print(a1.access)"
   ]
  },
  {
   "cell_type": "code",
   "execution_count": 68,
   "id": "f72892be",
   "metadata": {},
   "outputs": [
    {
     "name": "stdout",
     "output_type": "stream",
     "text": [
      "name is--> Shreesha\n",
      "email is --> shreesha@123\n",
      "access:partial\n"
     ]
    }
   ],
   "source": [
    "a1.get_admin_info()"
   ]
  },
  {
   "cell_type": "code",
   "execution_count": 70,
   "id": "793d4297",
   "metadata": {},
   "outputs": [
    {
     "name": "stdout",
     "output_type": "stream",
     "text": [
      "Requirement already satisfied: pydantic in c:\\users\\aishw\\anaconda3\\lib\\site-packages (2.8.2)\n",
      "Collecting email-validator\n",
      "  Downloading email_validator-2.2.0-py3-none-any.whl.metadata (25 kB)\n",
      "Requirement already satisfied: annotated-types>=0.4.0 in c:\\users\\aishw\\anaconda3\\lib\\site-packages (from pydantic) (0.6.0)\n",
      "Requirement already satisfied: pydantic-core==2.20.1 in c:\\users\\aishw\\anaconda3\\lib\\site-packages (from pydantic) (2.20.1)\n",
      "Requirement already satisfied: typing-extensions>=4.6.1 in c:\\users\\aishw\\anaconda3\\lib\\site-packages (from pydantic) (4.11.0)\n",
      "Collecting dnspython>=2.0.0 (from email-validator)\n",
      "  Downloading dnspython-2.7.0-py3-none-any.whl.metadata (5.8 kB)\n",
      "Requirement already satisfied: idna>=2.0.0 in c:\\users\\aishw\\anaconda3\\lib\\site-packages (from email-validator) (3.7)\n",
      "Downloading email_validator-2.2.0-py3-none-any.whl (33 kB)\n",
      "Downloading dnspython-2.7.0-py3-none-any.whl (313 kB)\n",
      "Installing collected packages: dnspython, email-validator\n",
      "Successfully installed dnspython-2.7.0 email-validator-2.2.0\n",
      "Note: you may need to restart the kernel to use updated packages.\n"
     ]
    }
   ],
   "source": [
    "%pip install pydantic email-validator"
   ]
  },
  {
   "cell_type": "code",
   "execution_count": 7,
   "id": "aa88da5a",
   "metadata": {},
   "outputs": [],
   "source": [
    "from warnings import filterwarnings"
   ]
  },
  {
   "cell_type": "code",
   "execution_count": 8,
   "id": "b755472c",
   "metadata": {},
   "outputs": [],
   "source": [
    "from dataclasses import dataclass\n",
    "from pydantic import BaseModel,Field,EmailStr\n",
    "from datetime import date\n",
    "from typing import List"
   ]
  },
  {
   "cell_type": "code",
   "execution_count": null,
   "id": "0c4961bd",
   "metadata": {},
   "outputs": [],
   "source": []
  },
  {
   "cell_type": "code",
   "execution_count": 9,
   "id": "9dc837c5",
   "metadata": {},
   "outputs": [
    {
     "ename": "SyntaxError",
     "evalue": "invalid syntax (3495269504.py, line 2)",
     "output_type": "error",
     "traceback": [
      "\u001b[1;36m  Cell \u001b[1;32mIn[9], line 2\u001b[1;36m\u001b[0m\n\u001b[1;33m    name :strRoll_no :int\u001b[0m\n\u001b[1;37m                     ^\u001b[0m\n\u001b[1;31mSyntaxError\u001b[0m\u001b[1;31m:\u001b[0m invalid syntax\n"
     ]
    }
   ],
   "source": [
    "Students = _Basemodels\n",
    "name :strRoll_no :int\n",
    "Marks :float\n",
    "Email :Emailstr\n",
    "doj :date\n",
    "Hobbies:List[str]"
   ]
  },
  {
   "cell_type": "code",
   "execution_count": 39,
   "id": "db06163d",
   "metadata": {},
   "outputs": [],
   "source": [
    "\n",
    "class Student(BaseModel):\n",
    " name : str =Field(description =\"Enter name here\")\n",
    " roll_no :int  =Field(description ='Enter roll_no here',gt=0)\n",
    " marks :float =Field(description = 'Enter marks here')\n",
    " Email : EmailStr =Field(description = 'Enter email here here')\n",
    " Doj: date=Field(description='enter date of jioning here')\n",
    " Hobbies :List[str]= Field(description ='List of Hobbies',default_factory = list)\n",
    "\n",
    "\n",
    "\n",
    "def get_Student_info(self):\n",
    "      print('name of student-->',self.name)\n",
    "      print('roll_no of student-->',self.roll_no)\n",
    "      print('marks of student-->',self.marks)\n",
    "      print('Email of student-->',self.Email)\n",
    "      print('Doj of student-->',self.Doj)\n",
    "      print('Hobbies of student-->',self.Hobbies)\n"
   ]
  },
  {
   "cell_type": "code",
   "execution_count": 40,
   "id": "d29f05dc",
   "metadata": {},
   "outputs": [],
   "source": [
    "s1 =Student(name=\"Suyash\",roll_no=12,marks=78.9,Email='suyash@gmail.com',Doj=date(2020,3,3),Hobbies=['Swimming'])"
   ]
  },
  {
   "cell_type": "code",
   "execution_count": 41,
   "id": "770abca8",
   "metadata": {},
   "outputs": [
    {
     "ename": "ValidationError",
     "evalue": "2 validation errors for Student\nname\n  Input should be a valid string [type=string_type, input_value=123, input_type=int]\n    For further information visit https://errors.pydantic.dev/2.8/v/string_type\nroll_no\n  Input should be a valid integer, got a number with a fractional part [type=int_from_float, input_value=12.1, input_type=float]\n    For further information visit https://errors.pydantic.dev/2.8/v/int_from_float",
     "output_type": "error",
     "traceback": [
      "\u001b[1;31m---------------------------------------------------------------------------\u001b[0m",
      "\u001b[1;31mValidationError\u001b[0m                           Traceback (most recent call last)",
      "Cell \u001b[1;32mIn[41], line 1\u001b[0m\n\u001b[1;32m----> 1\u001b[0m s2 \u001b[38;5;241m=\u001b[39mStudent(name\u001b[38;5;241m=\u001b[39m\u001b[38;5;241m123\u001b[39m,roll_no\u001b[38;5;241m=\u001b[39m\u001b[38;5;241m12.1\u001b[39m,marks\u001b[38;5;241m=\u001b[39m\u001b[38;5;241m78.9\u001b[39m,Email\u001b[38;5;241m=\u001b[39m\u001b[38;5;124m'\u001b[39m\u001b[38;5;124msuyash@gmail.com\u001b[39m\u001b[38;5;124m'\u001b[39m,Doj\u001b[38;5;241m=\u001b[39mdate(\u001b[38;5;241m2020\u001b[39m,\u001b[38;5;241m3\u001b[39m,\u001b[38;5;241m3\u001b[39m),Hobbies\u001b[38;5;241m=\u001b[39m[\u001b[38;5;124m'\u001b[39m\u001b[38;5;124mSwimming\u001b[39m\u001b[38;5;124m'\u001b[39m])\n",
      "File \u001b[1;32mc:\\Users\\aishw\\anaconda3\\Lib\\site-packages\\pydantic\\main.py:193\u001b[0m, in \u001b[0;36mBaseModel.__init__\u001b[1;34m(self, **data)\u001b[0m\n\u001b[0;32m    191\u001b[0m \u001b[38;5;66;03m# `__tracebackhide__` tells pytest and some other tools to omit this function from tracebacks\u001b[39;00m\n\u001b[0;32m    192\u001b[0m __tracebackhide__ \u001b[38;5;241m=\u001b[39m \u001b[38;5;28;01mTrue\u001b[39;00m\n\u001b[1;32m--> 193\u001b[0m \u001b[38;5;28mself\u001b[39m\u001b[38;5;241m.\u001b[39m__pydantic_validator__\u001b[38;5;241m.\u001b[39mvalidate_python(data, self_instance\u001b[38;5;241m=\u001b[39m\u001b[38;5;28mself\u001b[39m)\n",
      "\u001b[1;31mValidationError\u001b[0m: 2 validation errors for Student\nname\n  Input should be a valid string [type=string_type, input_value=123, input_type=int]\n    For further information visit https://errors.pydantic.dev/2.8/v/string_type\nroll_no\n  Input should be a valid integer, got a number with a fractional part [type=int_from_float, input_value=12.1, input_type=float]\n    For further information visit https://errors.pydantic.dev/2.8/v/int_from_float"
     ]
    }
   ],
   "source": [
    "s2 =Student(name=123,roll_no=12.1,marks=78.9,Email='suyash@gmail.com',Doj=date(2020,3,3),Hobbies=['Swimming'])"
   ]
  },
  {
   "cell_type": "code",
   "execution_count": null,
   "id": "c18427c5",
   "metadata": {},
   "outputs": [],
   "source": []
  }
 ],
 "metadata": {
  "kernelspec": {
   "display_name": "base",
   "language": "python",
   "name": "python3"
  },
  "language_info": {
   "codemirror_mode": {
    "name": "ipython",
    "version": 3
   },
   "file_extension": ".py",
   "mimetype": "text/x-python",
   "name": "python",
   "nbconvert_exporter": "python",
   "pygments_lexer": "ipython3",
   "version": "3.12.7"
  }
 },
 "nbformat": 4,
 "nbformat_minor": 5
}
