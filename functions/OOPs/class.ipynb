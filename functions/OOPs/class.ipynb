{
 "cells": [
  {
   "cell_type": "code",
   "execution_count": null,
   "id": "4ce655f6",
   "metadata": {},
   "outputs": [],
   "source": [
    "class Person :\n",
    "    def __init__(self , name ,age, gender,occupation):\n",
    "        self.name = name,\n",
    "        self.age = age,\n",
    "        self.gender = gender,\n",
    "        self.occupation = occupation, "
   ]
  },
  {
   "cell_type": "code",
   "execution_count": 3,
   "id": "aad39375",
   "metadata": {},
   "outputs": [],
   "source": [
    "p2 = Person('aishh' ,22,'female','software engg')"
   ]
  },
  {
   "cell_type": "code",
   "execution_count": 4,
   "id": "d2a5164d",
   "metadata": {},
   "outputs": [
    {
     "data": {
      "text/plain": [
       "('aishh',)"
      ]
     },
     "execution_count": 4,
     "metadata": {},
     "output_type": "execute_result"
    }
   ],
   "source": [
    "p2.name"
   ]
  },
  {
   "cell_type": "code",
   "execution_count": 5,
   "id": "2bb7c311",
   "metadata": {},
   "outputs": [
    {
     "data": {
      "text/plain": [
       "(22,)"
      ]
     },
     "execution_count": 5,
     "metadata": {},
     "output_type": "execute_result"
    }
   ],
   "source": [
    "p2.age"
   ]
  },
  {
   "cell_type": "code",
   "execution_count": 6,
   "id": "ade657b1",
   "metadata": {},
   "outputs": [
    {
     "data": {
      "text/plain": [
       "('female',)"
      ]
     },
     "execution_count": 6,
     "metadata": {},
     "output_type": "execute_result"
    }
   ],
   "source": [
    "p2.gender"
   ]
  },
  {
   "cell_type": "code",
   "execution_count": 7,
   "id": "8e9f9a7d",
   "metadata": {},
   "outputs": [
    {
     "data": {
      "text/plain": [
       "('software engg',)"
      ]
     },
     "execution_count": 7,
     "metadata": {},
     "output_type": "execute_result"
    }
   ],
   "source": [
    "p2.occupation"
   ]
  },
  {
   "cell_type": "code",
   "execution_count": 8,
   "id": "bbcfb7c4",
   "metadata": {},
   "outputs": [],
   "source": [
    "p2.occupation ='AI engineer'"
   ]
  },
  {
   "cell_type": "code",
   "execution_count": 9,
   "id": "cd86fe22",
   "metadata": {},
   "outputs": [
    {
     "data": {
      "text/plain": [
       "'AI engineer'"
      ]
     },
     "execution_count": 9,
     "metadata": {},
     "output_type": "execute_result"
    }
   ],
   "source": [
    "p2.occupation"
   ]
  },
  {
   "cell_type": "code",
   "execution_count": 10,
   "id": "7dfaf84a",
   "metadata": {},
   "outputs": [],
   "source": [
    "p2.salary= 5000000"
   ]
  },
  {
   "cell_type": "code",
   "execution_count": 11,
   "id": "b55da2bf",
   "metadata": {},
   "outputs": [
    {
     "data": {
      "text/plain": [
       "5000000"
      ]
     },
     "execution_count": 11,
     "metadata": {},
     "output_type": "execute_result"
    }
   ],
   "source": [
    "p2.salary"
   ]
  },
  {
   "cell_type": "code",
   "execution_count": 97,
   "id": "49262bc2",
   "metadata": {},
   "outputs": [
    {
     "ename": "AttributeError",
     "evalue": "'Person' object has no attribute 'salary'",
     "output_type": "error",
     "traceback": [
      "\u001b[1;31m---------------------------------------------------------------------------\u001b[0m",
      "\u001b[1;31mAttributeError\u001b[0m                            Traceback (most recent call last)",
      "Cell \u001b[1;32mIn[97], line 1\u001b[0m\n\u001b[1;32m----> 1\u001b[0m p2\u001b[38;5;241m.\u001b[39m\u001b[38;5;21m__delattr__\u001b[39m(\u001b[38;5;124m'\u001b[39m\u001b[38;5;124msalary\u001b[39m\u001b[38;5;124m'\u001b[39m)\n",
      "\u001b[1;31mAttributeError\u001b[0m: 'Person' object has no attribute 'salary'"
     ]
    }
   ],
   "source": [
    "p2.__delattr__('salary')"
   ]
  },
  {
   "cell_type": "code",
   "execution_count": 99,
   "id": "73479086",
   "metadata": {},
   "outputs": [
    {
     "ename": "AttributeError",
     "evalue": "'Person' object has no attribute 'salary'",
     "output_type": "error",
     "traceback": [
      "\u001b[1;31m---------------------------------------------------------------------------\u001b[0m",
      "\u001b[1;31mAttributeError\u001b[0m                            Traceback (most recent call last)",
      "Cell \u001b[1;32mIn[99], line 1\u001b[0m\n\u001b[1;32m----> 1\u001b[0m p2\u001b[38;5;241m.\u001b[39msalary\n",
      "\u001b[1;31mAttributeError\u001b[0m: 'Person' object has no attribute 'salary'"
     ]
    }
   ],
   "source": [
    "p2.salary"
   ]
  },
  {
   "cell_type": "code",
   "execution_count": 37,
   "id": "1bc8e241",
   "metadata": {},
   "outputs": [],
   "source": [
    "class Person :\n",
    "    country = 'India'\n",
    "    def __init__(self , name ,age, gender,occupation):\n",
    "        self.name = name\n",
    "        self.age = age\n",
    "        self.gender = gender\n",
    "        self.occupation = occupation"
   ]
  },
  {
   "cell_type": "code",
   "execution_count": 38,
   "id": "8c34c3ce",
   "metadata": {},
   "outputs": [],
   "source": [
    "p1= Person(name='uma',age=23,occupation = 'teacher',gender ='female')"
   ]
  },
  {
   "cell_type": "code",
   "execution_count": 39,
   "id": "3b26e5e9",
   "metadata": {},
   "outputs": [
    {
     "data": {
      "text/plain": [
       "'India'"
      ]
     },
     "execution_count": 39,
     "metadata": {},
     "output_type": "execute_result"
    }
   ],
   "source": [
    "p1.country"
   ]
  },
  {
   "cell_type": "code",
   "execution_count": null,
   "id": "14d553a2",
   "metadata": {},
   "outputs": [],
   "source": [
    "class Person :\n",
    "    country = 'India'\n",
    "    def __init__(self , name ,age, gender,occupation):\n",
    "        self.name = name\n",
    "        self.age = age\n",
    "        self.gender = gender\n",
    "        self.occupation = occupation\n",
    "\n",
    "\n",
    "        def talk(self):\n",
    "            print(f' Hello there i am {self.name}')\n",
    "            print(f'I am {self.age} years old')\n",
    "            "
   ]
  },
  {
   "cell_type": "code",
   "execution_count": null,
   "id": "fd935d7f",
   "metadata": {},
   "outputs": [],
   "source": [
    "p4 = Person()"
   ]
  },
  {
   "cell_type": "code",
   "execution_count": null,
   "id": "71e718ac",
   "metadata": {},
   "outputs": [],
   "source": []
  },
  {
   "cell_type": "code",
   "execution_count": null,
   "id": "8f135e5b",
   "metadata": {},
   "outputs": [],
   "source": []
  },
  {
   "cell_type": "code",
   "execution_count": null,
   "id": "05b55e7c",
   "metadata": {},
   "outputs": [],
   "source": []
  },
  {
   "cell_type": "code",
   "execution_count": null,
   "id": "cd9b3e89",
   "metadata": {},
   "outputs": [],
   "source": [
    "# create student class with dataclasses\n",
    "-Name\n",
    "-gender\n",
    "-marks\n",
    "-hobbies"
   ]
  },
  {
   "cell_type": "code",
   "execution_count": 44,
   "id": "559eef87",
   "metadata": {},
   "outputs": [],
   "source": [
    "from dataclasses import dataclass\n",
    "from typing import Literal"
   ]
  },
  {
   "cell_type": "code",
   "execution_count": 87,
   "id": "9d1cfb04",
   "metadata": {},
   "outputs": [],
   "source": [
    "from warnings import filterwarnings\n",
    "filterwarnings('ignore')\n"
   ]
  },
  {
   "cell_type": "code",
   "execution_count": 89,
   "id": "8adfe14c",
   "metadata": {},
   "outputs": [],
   "source": [
    "@dataclass\n",
    "class student:\n",
    "    name :str\n",
    "    marks:int|float\n",
    "    gender:Literal['Male','Female']\n",
    "    hobbies :list[str]\n",
    "\n",
    "    def get_info(self):\n",
    "        print(f'i am{self.name}')\n",
    "        print('i got marks{self.marks}')\n",
    "        print(f'i am {self.gender}')\n",
    "        print(f'my hobbies are{self.hobbies}')\n",
    "\n",
    "\n"
   ]
  },
  {
   "cell_type": "code",
   "execution_count": 90,
   "id": "1003d0b5",
   "metadata": {},
   "outputs": [],
   "source": [
    "s1= student(name='Malhar',marks=56.67,gender='Male',hobbies=['reading','writting'])"
   ]
  },
  {
   "cell_type": "code",
   "execution_count": 91,
   "id": "75214121",
   "metadata": {},
   "outputs": [
    {
     "data": {
      "text/plain": [
       "['reading', 'writting']"
      ]
     },
     "execution_count": 91,
     "metadata": {},
     "output_type": "execute_result"
    }
   ],
   "source": [
    "s1.hobbies"
   ]
  },
  {
   "cell_type": "code",
   "execution_count": 92,
   "id": "91774df2",
   "metadata": {},
   "outputs": [
    {
     "data": {
      "text/plain": [
       "56.67"
      ]
     },
     "execution_count": 92,
     "metadata": {},
     "output_type": "execute_result"
    }
   ],
   "source": [
    "s1.marks"
   ]
  },
  {
   "cell_type": "code",
   "execution_count": 93,
   "id": "dc82b424",
   "metadata": {},
   "outputs": [
    {
     "data": {
      "text/plain": [
       "'Malhar'"
      ]
     },
     "execution_count": 93,
     "metadata": {},
     "output_type": "execute_result"
    }
   ],
   "source": [
    "s1.name"
   ]
  },
  {
   "cell_type": "code",
   "execution_count": 95,
   "id": "7cfe1363",
   "metadata": {},
   "outputs": [
    {
     "name": "stdout",
     "output_type": "stream",
     "text": [
      "i amMalhar\n",
      "i got marks{self.marks}\n",
      "i am Male\n",
      "my hobbies are['reading', 'writting']\n"
     ]
    }
   ],
   "source": [
    "s1.get_info()"
   ]
  },
  {
   "cell_type": "code",
   "execution_count": 69,
   "id": "13b787a2",
   "metadata": {},
   "outputs": [],
   "source": [
    "@dataclass\n",
    "class Account:\n",
    "    Name:str\n",
    "    acc_no:str\n",
    "    bal:float|int\n",
    "    def check_balance(self):\n",
    "        print(f'Current Account balance of account {self.acc_no} is {self.bal}')\n",
    "\n",
    "    def deposit(self,amt):\n",
    "            print(f'Amount of {amt} is added in {self.acc_no}')\n",
    "            self.bal=self.bal+amt\n",
    "            self.check_balance()\n",
    "\n",
    "    def withdraw(self ,amt:int|float):\n",
    "         if self.bal < amt:\n",
    "              raise ValueError('Insufficient Balance')\n",
    "         else:\n",
    "              self.bal =self.bal-amt\n",
    "              print('Amount of',amt,'is withdrawed form' , self.acc_no)\n",
    "              self.check_balance()\n",
    "\n",
    "    def Transfer(self,amt:int|float,ac= 'Account'):\n",
    "         self.withdraw(amt) \n",
    "         ac.deposit(amt)        \n"
   ]
  },
  {
   "cell_type": "code",
   "execution_count": 70,
   "id": "aff120d7",
   "metadata": {},
   "outputs": [],
   "source": [
    "u1=Account('priya',1234,2000)"
   ]
  },
  {
   "cell_type": "code",
   "execution_count": 71,
   "id": "723663e6",
   "metadata": {},
   "outputs": [
    {
     "data": {
      "text/plain": [
       "1234"
      ]
     },
     "execution_count": 71,
     "metadata": {},
     "output_type": "execute_result"
    }
   ],
   "source": [
    "u1.acc_no"
   ]
  },
  {
   "cell_type": "code",
   "execution_count": 72,
   "id": "0f091ea3",
   "metadata": {},
   "outputs": [
    {
     "data": {
      "text/plain": [
       "2000"
      ]
     },
     "execution_count": 72,
     "metadata": {},
     "output_type": "execute_result"
    }
   ],
   "source": [
    "u1.bal"
   ]
  },
  {
   "cell_type": "code",
   "execution_count": 73,
   "id": "a24098a5",
   "metadata": {},
   "outputs": [
    {
     "data": {
      "text/plain": [
       "'priya'"
      ]
     },
     "execution_count": 73,
     "metadata": {},
     "output_type": "execute_result"
    }
   ],
   "source": [
    "u1.Name"
   ]
  },
  {
   "cell_type": "code",
   "execution_count": 74,
   "id": "c8b9e7bb",
   "metadata": {},
   "outputs": [
    {
     "name": "stdout",
     "output_type": "stream",
     "text": [
      "Current Account balance of account 1234 is 2000\n"
     ]
    }
   ],
   "source": [
    "u1.check_balance()"
   ]
  },
  {
   "cell_type": "code",
   "execution_count": 75,
   "id": "4a07ba98",
   "metadata": {},
   "outputs": [
    {
     "name": "stdout",
     "output_type": "stream",
     "text": [
      "Amount of 500 is added in 1234\n",
      "Current Account balance of account 1234 is 2500\n"
     ]
    }
   ],
   "source": [
    "u1.deposit(500)"
   ]
  },
  {
   "cell_type": "code",
   "execution_count": 77,
   "id": "bd18d402",
   "metadata": {},
   "outputs": [
    {
     "name": "stdout",
     "output_type": "stream",
     "text": [
      "Amount of 2000 is withdrawed form 1234\n",
      "Current Account balance of account 1234 is 500\n"
     ]
    }
   ],
   "source": [
    "u1.withdraw(2000)"
   ]
  },
  {
   "cell_type": "code",
   "execution_count": 78,
   "id": "d893b525",
   "metadata": {},
   "outputs": [
    {
     "name": "stdout",
     "output_type": "stream",
     "text": [
      "Amount of 500 is withdrawed form 1234\n",
      "Current Account balance of account 1234 is 0\n"
     ]
    }
   ],
   "source": [
    "u1.withdraw(500)"
   ]
  },
  {
   "cell_type": "code",
   "execution_count": 37,
   "id": "464d69f2",
   "metadata": {},
   "outputs": [],
   "source": [
    "from warnings import filterwarnings\n",
    "filterwarnings('ignore')\n"
   ]
  },
  {
   "cell_type": "code",
   "execution_count": 38,
   "id": "8f04ec3c",
   "metadata": {},
   "outputs": [],
   "source": [
    "import math\n",
    "\n",
    "class Triangle:\n",
    "    def __init__(self, side1, side2, side3):\n",
    "        self.side1 = side1\n",
    "        self.side2 = side2\n",
    "        self.side3 = side3\n",
    "\n",
    "    def is_valid(self):\n",
    "        # Check if the sides form a valid triangle\n",
    "        return (self.side1 + self.side2 > self.side3 and\n",
    "                self.side2 + self.side3 > self.side1 and\n",
    "                self.side1 + self.side3 > self.side2)\n",
    "\n",
    "    def perimeter(self):\n",
    "        # Return the perimeter of the triangle\n",
    "        return self.side1 + self.side2 + self.side3\n",
    "\n",
    "    def area(self):\n",
    "        if not self.is_valid():\n",
    "            raise ValueError(\"The given sides do not form a valid triangle.\")\n",
    "        \n",
    "        # Using Heron's formula to calculate area\n",
    "        s = self.perimeter() / 2\n",
    "        area = math.sqrt(s * (s - self.side1) * (s - self.side2) * (s - self.side3))\n",
    "        return area\n"
   ]
  },
  {
   "cell_type": "code",
   "execution_count": null,
   "id": "03edc0a2",
   "metadata": {},
   "outputs": [
    {
     "name": "stdout",
     "output_type": "stream",
     "text": [
      "Invalid triangle\n"
     ]
    }
   ],
   "source": [
    "triangle = Triangle(3, 60, 5)\n",
    "\n",
    "if triangle.is_valid():\n",
    "    print(\"Perimeter:\", triangle.perimeter())\n",
    "    print(\"Area:\", triangle.area())\n",
    "    print()\n",
    "else:\n",
    "    print(\"Invalid triangle\")\n",
    "    ()\n"
   ]
  },
  {
   "cell_type": "code",
   "execution_count": 46,
   "id": "bfdecdf1",
   "metadata": {},
   "outputs": [
    {
     "data": {
      "text/plain": [
       "3"
      ]
     },
     "execution_count": 46,
     "metadata": {},
     "output_type": "execute_result"
    }
   ],
   "source": [
    "triangle.side1\n"
   ]
  },
  {
   "cell_type": "code",
   "execution_count": 47,
   "id": "cda33432",
   "metadata": {},
   "outputs": [
    {
     "data": {
      "text/plain": [
       "60"
      ]
     },
     "execution_count": 47,
     "metadata": {},
     "output_type": "execute_result"
    }
   ],
   "source": [
    "triangle.side2"
   ]
  },
  {
   "cell_type": "code",
   "execution_count": 48,
   "id": "c0b87e3b",
   "metadata": {},
   "outputs": [
    {
     "data": {
      "text/plain": [
       "5"
      ]
     },
     "execution_count": 48,
     "metadata": {},
     "output_type": "execute_result"
    }
   ],
   "source": [
    "triangle.side3"
   ]
  },
  {
   "cell_type": "code",
   "execution_count": 49,
   "id": "43070cda",
   "metadata": {},
   "outputs": [
    {
     "ename": "ValueError",
     "evalue": "The given sides do not form a valid triangle.",
     "output_type": "error",
     "traceback": [
      "\u001b[1;31m---------------------------------------------------------------------------\u001b[0m",
      "\u001b[1;31mValueError\u001b[0m                                Traceback (most recent call last)",
      "Cell \u001b[1;32mIn[49], line 1\u001b[0m\n\u001b[1;32m----> 1\u001b[0m triangle\u001b[38;5;241m.\u001b[39marea()\n",
      "Cell \u001b[1;32mIn[38], line 21\u001b[0m, in \u001b[0;36mTriangle.area\u001b[1;34m(self)\u001b[0m\n\u001b[0;32m     19\u001b[0m \u001b[38;5;28;01mdef\u001b[39;00m \u001b[38;5;21marea\u001b[39m(\u001b[38;5;28mself\u001b[39m):\n\u001b[0;32m     20\u001b[0m     \u001b[38;5;28;01mif\u001b[39;00m \u001b[38;5;129;01mnot\u001b[39;00m \u001b[38;5;28mself\u001b[39m\u001b[38;5;241m.\u001b[39mis_valid():\n\u001b[1;32m---> 21\u001b[0m         \u001b[38;5;28;01mraise\u001b[39;00m \u001b[38;5;167;01mValueError\u001b[39;00m(\u001b[38;5;124m\"\u001b[39m\u001b[38;5;124mThe given sides do not form a valid triangle.\u001b[39m\u001b[38;5;124m\"\u001b[39m)\n\u001b[0;32m     23\u001b[0m     \u001b[38;5;66;03m# Using Heron's formula to calculate area\u001b[39;00m\n\u001b[0;32m     24\u001b[0m     s \u001b[38;5;241m=\u001b[39m \u001b[38;5;28mself\u001b[39m\u001b[38;5;241m.\u001b[39mperimeter() \u001b[38;5;241m/\u001b[39m \u001b[38;5;241m2\u001b[39m\n",
      "\u001b[1;31mValueError\u001b[0m: The given sides do not form a valid triangle."
     ]
    }
   ],
   "source": [
    "triangle.area()"
   ]
  },
  {
   "cell_type": "code",
   "execution_count": 44,
   "id": "15380a85",
   "metadata": {},
   "outputs": [
    {
     "data": {
      "text/plain": [
       "14"
      ]
     },
     "execution_count": 44,
     "metadata": {},
     "output_type": "execute_result"
    }
   ],
   "source": [
    "triangle.perimeter()"
   ]
  },
  {
   "cell_type": "code",
   "execution_count": 36,
   "id": "55cf8dc8",
   "metadata": {},
   "outputs": [
    {
     "data": {
      "text/plain": [
       "True"
      ]
     },
     "execution_count": 36,
     "metadata": {},
     "output_type": "execute_result"
    }
   ],
   "source": [
    "triangle.is_valid()"
   ]
  },
  {
   "cell_type": "code",
   "execution_count": 29,
   "id": "4674dc5d",
   "metadata": {},
   "outputs": [
    {
     "ename": "NameError",
     "evalue": "name 'dataclass' is not defined",
     "output_type": "error",
     "traceback": [
      "\u001b[1;31m---------------------------------------------------------------------------\u001b[0m",
      "\u001b[1;31mNameError\u001b[0m                                 Traceback (most recent call last)",
      "Cell \u001b[1;32mIn[29], line 1\u001b[0m\n\u001b[1;32m----> 1\u001b[0m \u001b[38;5;129m@dataclass\u001b[39m\n\u001b[0;32m      2\u001b[0m \u001b[38;5;28;01mclass\u001b[39;00m \u001b[38;5;21;01mTriangle\u001b[39;00m :\n\u001b[0;32m      3\u001b[0m     a : \u001b[38;5;28mint\u001b[39m\u001b[38;5;241m|\u001b[39m\u001b[38;5;28mfloat\u001b[39m\n\u001b[0;32m      4\u001b[0m     b : \u001b[38;5;28mint\u001b[39m\u001b[38;5;241m|\u001b[39m\u001b[38;5;28mfloat\u001b[39m\n",
      "\u001b[1;31mNameError\u001b[0m: name 'dataclass' is not defined"
     ]
    }
   ],
   "source": [
    "@dataclass\n",
    "class Triangle :\n",
    "    a : int|float\n",
    "    b : int|float\n",
    "    c : int|float\n",
    "        \n",
    "    def perimeter(self):\n",
    "        if (\n",
    "            (self.a + self.b > self.c) and \n",
    "            (self.b + self.c > self.a)  and \n",
    "            (self.c + self.a > self.b) ):\n",
    "             return self.a + self.b + self.c\n",
    "             \n",
    "      \n",
    "    def Area(self):\n",
    "        if self.perimeter() is not None:\n",
    "            s = self.perimeter()/2\n",
    "            return (s*(s-self.a)*(s-self.b)*(s-self.c))**(1/2)\n",
    "        else:\n",
    "            return 'Perimeter is None'"
   ]
  },
  {
   "cell_type": "code",
   "execution_count": null,
   "id": "d09c3601",
   "metadata": {},
   "outputs": [],
   "source": []
  },
  {
   "cell_type": "code",
   "execution_count": 2,
   "id": "8da49e4e",
   "metadata": {},
   "outputs": [],
   "source": [
    "from dataclasses import dataclass\n"
   ]
  },
  {
   "cell_type": "code",
   "execution_count": 3,
   "id": "c8d676a5",
   "metadata": {},
   "outputs": [],
   "source": [
    "@dataclass\n",
    "class Calculator:\n",
    "    x : int|float\n",
    "    y : int|float\n",
    "\n",
    "    def addition(self):\n",
    "        if isinstance(self.x , (int, float)) and isinstance(self.y , (int, float)):\n",
    "            return self.x + self.y\n",
    "    \n",
    "    def subtraction(self):\n",
    "        if self.addition() is not None:\n",
    "            return self.x - self.y\n",
    "    \n",
    "    def multiplication(self):\n",
    "        if self.addition() is not None:\n",
    "            return self.x*self.y\n",
    "    \n",
    "    def division(self):\n",
    "        if self.y != 0 and  self.addition() is not None:\n",
    "            return self.x/self.y\n",
    "        else:\n",
    "            raise ValueError('Infinity')\n",
    "\n"
   ]
  },
  {
   "cell_type": "code",
   "execution_count": 7,
   "id": "34d9b304",
   "metadata": {},
   "outputs": [],
   "source": [
    "o1 = Calculator(2,6)"
   ]
  },
  {
   "cell_type": "code",
   "execution_count": 8,
   "id": "7384f2f0",
   "metadata": {},
   "outputs": [],
   "source": [
    "o2 = Calculator(2, 'Science')\n"
   ]
  },
  {
   "cell_type": "code",
   "execution_count": 9,
   "id": "dce97473",
   "metadata": {},
   "outputs": [],
   "source": [
    "o3 = Calculator(34,0)"
   ]
  },
  {
   "cell_type": "code",
   "execution_count": 12,
   "id": "fdc94ff4",
   "metadata": {},
   "outputs": [
    {
     "ename": "TypeError",
     "evalue": "Calculator.addition() missing 1 required positional argument: 'self'",
     "output_type": "error",
     "traceback": [
      "\u001b[1;31m---------------------------------------------------------------------------\u001b[0m",
      "\u001b[1;31mTypeError\u001b[0m                                 Traceback (most recent call last)",
      "Cell \u001b[1;32mIn[12], line 1\u001b[0m\n\u001b[1;32m----> 1\u001b[0m Calculator\u001b[38;5;241m.\u001b[39maddition()\n",
      "\u001b[1;31mTypeError\u001b[0m: Calculator.addition() missing 1 required positional argument: 'self'"
     ]
    }
   ],
   "source": [
    "Calculator.addition()"
   ]
  },
  {
   "cell_type": "code",
   "execution_count": null,
   "id": "c8fdabb0",
   "metadata": {},
   "outputs": [],
   "source": []
  },
  {
   "cell_type": "code",
   "execution_count": null,
   "id": "b4256efa",
   "metadata": {},
   "outputs": [],
   "source": []
  },
  {
   "cell_type": "code",
   "execution_count": null,
   "id": "c7655139",
   "metadata": {},
   "outputs": [],
   "source": []
  },
  {
   "cell_type": "code",
   "execution_count": null,
   "id": "0866fdbe",
   "metadata": {},
   "outputs": [],
   "source": []
  },
  {
   "cell_type": "code",
   "execution_count": null,
   "id": "57924b9f",
   "metadata": {},
   "outputs": [],
   "source": []
  },
  {
   "cell_type": "code",
   "execution_count": null,
   "id": "8190c611",
   "metadata": {},
   "outputs": [],
   "source": []
  },
  {
   "cell_type": "code",
   "execution_count": null,
   "id": "3c050517",
   "metadata": {},
   "outputs": [],
   "source": []
  },
  {
   "cell_type": "code",
   "execution_count": null,
   "id": "d8500326",
   "metadata": {},
   "outputs": [],
   "source": []
  },
  {
   "cell_type": "code",
   "execution_count": null,
   "id": "115d5944",
   "metadata": {},
   "outputs": [],
   "source": []
  },
  {
   "cell_type": "code",
   "execution_count": null,
   "id": "dd8cfa64",
   "metadata": {},
   "outputs": [],
   "source": []
  },
  {
   "cell_type": "code",
   "execution_count": null,
   "id": "2e7c6d0e",
   "metadata": {},
   "outputs": [],
   "source": []
  },
  {
   "cell_type": "code",
   "execution_count": null,
   "id": "1b2b3de5",
   "metadata": {},
   "outputs": [],
   "source": []
  }
 ],
 "metadata": {
  "kernelspec": {
   "display_name": "base",
   "language": "python",
   "name": "python3"
  },
  "language_info": {
   "codemirror_mode": {
    "name": "ipython",
    "version": 3
   },
   "file_extension": ".py",
   "mimetype": "text/x-python",
   "name": "python",
   "nbconvert_exporter": "python",
   "pygments_lexer": "ipython3",
   "version": "3.12.7"
  }
 },
 "nbformat": 4,
 "nbformat_minor": 5
}
