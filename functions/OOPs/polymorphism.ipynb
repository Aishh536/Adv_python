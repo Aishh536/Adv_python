{
 "cells": [
  {
   "cell_type": "code",
   "execution_count": 1,
   "id": "4e68358e",
   "metadata": {},
   "outputs": [
    {
     "data": {
      "text/plain": [
       "2"
      ]
     },
     "execution_count": 1,
     "metadata": {},
     "output_type": "execute_result"
    }
   ],
   "source": [
    "dict1 = {'name' : ['Swaraj', 'Swara' , 'Aishu'] ,'Age' : [2.5 , 4.5 , 23]} \n",
    "len(dict1)\n"
   ]
  },
  {
   "cell_type": "code",
   "execution_count": 2,
   "id": "1076caa4",
   "metadata": {},
   "outputs": [],
   "source": [
    "import pandas as pd "
   ]
  },
  {
   "cell_type": "code",
   "execution_count": 3,
   "id": "daa34422",
   "metadata": {},
   "outputs": [],
   "source": [
    "data = pd.DataFrame(dict1)"
   ]
  },
  {
   "cell_type": "code",
   "execution_count": 4,
   "id": "ab74bb5b",
   "metadata": {},
   "outputs": [
    {
     "data": {
      "text/plain": [
       "3"
      ]
     },
     "execution_count": 4,
     "metadata": {},
     "output_type": "execute_result"
    }
   ],
   "source": [
    "len(data)"
   ]
  },
  {
   "cell_type": "code",
   "execution_count": null,
   "id": "e0933957",
   "metadata": {},
   "outputs": [],
   "source": [
    "## polymorphism in oprators"
   ]
  },
  {
   "cell_type": "code",
   "execution_count": 5,
   "id": "37d408c7",
   "metadata": {},
   "outputs": [
    {
     "data": {
      "text/plain": [
       "24"
      ]
     },
     "execution_count": 5,
     "metadata": {},
     "output_type": "execute_result"
    }
   ],
   "source": [
    "23+1"
   ]
  },
  {
   "cell_type": "code",
   "execution_count": 6,
   "id": "d6fb474e",
   "metadata": {},
   "outputs": [
    {
     "data": {
      "text/plain": [
       "124.32000000000001"
      ]
     },
     "execution_count": 6,
     "metadata": {},
     "output_type": "execute_result"
    }
   ],
   "source": [
    "34.56+89.76"
   ]
  },
  {
   "cell_type": "code",
   "execution_count": 8,
   "id": "ab1173c9",
   "metadata": {},
   "outputs": [
    {
     "data": {
      "text/plain": [
       "'Ranvijay'"
      ]
     },
     "execution_count": 8,
     "metadata": {},
     "output_type": "execute_result"
    }
   ],
   "source": [
    "'Ran' + 'vijay'"
   ]
  },
  {
   "cell_type": "code",
   "execution_count": null,
   "id": "fafefba0",
   "metadata": {},
   "outputs": [
    {
     "ename": "SyntaxError",
     "evalue": "invalid syntax (589198701.py, line 3)",
     "output_type": "error",
     "traceback": [
      "\u001b[1;36m  Cell \u001b[1;32mIn[9], line 3\u001b[1;36m\u001b[0m\n\u001b[1;33m    a.[1]+b.[3]\u001b[0m\n\u001b[1;37m      ^\u001b[0m\n\u001b[1;31mSyntaxError\u001b[0m\u001b[1;31m:\u001b[0m invalid syntax\n"
     ]
    }
   ],
   "source": [
    "a=[1,2,3]\n",
    "b=[4,5,6]\n",
    "c=[]\n",
    "for in in range((len))\n",
    "    "
   ]
  },
  {
   "cell_type": "code",
   "execution_count": 10,
   "id": "3efe4754",
   "metadata": {},
   "outputs": [],
   "source": [
    "from dataclasses import dataclass"
   ]
  },
  {
   "cell_type": "code",
   "execution_count": 38,
   "id": "577b99e6",
   "metadata": {},
   "outputs": [],
   "source": [
    "class India:\n",
    "     def Capital(self):\n",
    "          print('Capital of India is new Delhi.')\n",
    "                \n",
    "     def Language(self):\n",
    "         print('Hindi is widely spoken language in India.')\n",
    "\n",
    "class USA: \n",
    "     def Capital(self):\n",
    "          print('Capital of USA is  Wasgington.')\n",
    "                \n",
    "     def Language(self):\n",
    "         print('ENGLISH is widely spoken language in USA.')\n",
    "\n",
    "class France:    \n",
    "    def Capital(self):\n",
    "          print('Capital of France is Paris.')\n",
    "                \n",
    "    def Language(self):\n",
    "         print('French is widely spoken language in France.')\n"
   ]
  },
  {
   "cell_type": "code",
   "execution_count": 39,
   "id": "0fc7ab48",
   "metadata": {},
   "outputs": [],
   "source": [
    "a =India()"
   ]
  },
  {
   "cell_type": "code",
   "execution_count": 40,
   "id": "61be05aa",
   "metadata": {},
   "outputs": [
    {
     "name": "stdout",
     "output_type": "stream",
     "text": [
      "Capital of India is new Delhi.\n"
     ]
    }
   ],
   "source": [
    "a.Capital()"
   ]
  },
  {
   "cell_type": "code",
   "execution_count": 41,
   "id": "28a0a9f0",
   "metadata": {},
   "outputs": [
    {
     "name": "stdout",
     "output_type": "stream",
     "text": [
      "Hindi is widely spoken language in India.\n"
     ]
    }
   ],
   "source": [
    "a.Language()"
   ]
  },
  {
   "cell_type": "code",
   "execution_count": 42,
   "id": "4d4e643f",
   "metadata": {},
   "outputs": [],
   "source": [
    "b=USA()"
   ]
  },
  {
   "cell_type": "code",
   "execution_count": 43,
   "id": "68eb454e",
   "metadata": {},
   "outputs": [
    {
     "name": "stdout",
     "output_type": "stream",
     "text": [
      "Capital of USA is  Wasgington.\n"
     ]
    }
   ],
   "source": [
    "b.Capital()"
   ]
  },
  {
   "cell_type": "code",
   "execution_count": 44,
   "id": "3d5e0598",
   "metadata": {},
   "outputs": [
    {
     "name": "stdout",
     "output_type": "stream",
     "text": [
      "ENGLISH is widely spoken language in USA.\n"
     ]
    }
   ],
   "source": [
    "b.Language()"
   ]
  },
  {
   "cell_type": "code",
   "execution_count": 45,
   "id": "613445bd",
   "metadata": {},
   "outputs": [],
   "source": [
    "c =France()"
   ]
  },
  {
   "cell_type": "code",
   "execution_count": 46,
   "id": "3d5f7095",
   "metadata": {},
   "outputs": [
    {
     "name": "stdout",
     "output_type": "stream",
     "text": [
      "Capital of France is Paris.\n"
     ]
    }
   ],
   "source": [
    "c.Capital()"
   ]
  },
  {
   "cell_type": "code",
   "execution_count": 47,
   "id": "b74c4de5",
   "metadata": {},
   "outputs": [
    {
     "name": "stdout",
     "output_type": "stream",
     "text": [
      "French is widely spoken language in France.\n"
     ]
    }
   ],
   "source": [
    "c.Language()"
   ]
  },
  {
   "cell_type": "code",
   "execution_count": 48,
   "id": "d33b3c1c",
   "metadata": {},
   "outputs": [
    {
     "name": "stdout",
     "output_type": "stream",
     "text": [
      "Hindi is widely spoken language in India.\n",
      "None\n",
      "Capital of India is new Delhi.\n",
      "None\n",
      "ENGLISH is widely spoken language in USA.\n",
      "None\n",
      "Capital of USA is  Wasgington.\n",
      "None\n",
      "French is widely spoken language in France.\n",
      "None\n",
      "Capital of France is Paris.\n",
      "None\n"
     ]
    }
   ],
   "source": [
    "t=[a,b,c]\n",
    "for i in t:\n",
    "    print(i.Language())\n",
    "    print(i.Capital())"
   ]
  },
  {
   "cell_type": "code",
   "execution_count": 52,
   "id": "504d83f5",
   "metadata": {},
   "outputs": [],
   "source": [
    "class India:\n",
    "     def Capital(self):\n",
    "          return('Capital of India is new Delhi.')\n",
    "                \n",
    "     def Language(self):\n",
    "         print('Hindi is widely spoken language in India.')\n",
    "\n",
    "class USA: \n",
    "     def Capital(self):\n",
    "          return('Capital of USA is  Wasgington.')\n",
    "                \n",
    "     def Language(self):\n",
    "         return('ENGLISH is widely spoken language in USA.')\n",
    "\n",
    "class France:    \n",
    "    def Capital(self):\n",
    "          return('Capital of France is Paris.')\n",
    "                \n",
    "    def Language(self):\n",
    "         return('French is widely spoken language in France.')\n"
   ]
  },
  {
   "cell_type": "code",
   "execution_count": 57,
   "id": "628b2080",
   "metadata": {},
   "outputs": [],
   "source": [
    "x = India()\n",
    "y= France()\n",
    "z= USA()"
   ]
  },
  {
   "cell_type": "code",
   "execution_count": 59,
   "id": "dbbc442c",
   "metadata": {},
   "outputs": [
    {
     "name": "stdout",
     "output_type": "stream",
     "text": [
      "Hindi is widely spoken language in India.\n",
      "None\n",
      "Capital of India is new Delhi.\n",
      "\n",
      "\n",
      "=================================================\n",
      "\n",
      "\n",
      "French is widely spoken language in France.\n",
      "Capital of France is Paris.\n",
      "\n",
      "\n",
      "=================================================\n",
      "\n",
      "\n",
      "ENGLISH is widely spoken language in USA.\n",
      "Capital of USA is  Wasgington.\n",
      "\n",
      "\n",
      "=================================================\n",
      "\n",
      "\n"
     ]
    }
   ],
   "source": [
    "t = [x ,y ,z]\n",
    "for i in t:\n",
    "    print(i.Language())\n",
    "    print(i.Capital())\n",
    "    print()\n",
    "    print()\n",
    "    print(\"=================================================\")\n",
    "    print()\n",
    "    print()"
   ]
  },
  {
   "cell_type": "code",
   "execution_count": 127,
   "id": "b2f564ba",
   "metadata": {},
   "outputs": [],
   "source": [
    "from dataclasses import dataclass\n"
   ]
  },
  {
   "cell_type": "code",
   "execution_count": 128,
   "id": "d27791a7",
   "metadata": {},
   "outputs": [],
   "source": [
    "@dataclass\n",
    "class Circle:\n",
    "    radius: int|float\n",
    "\n",
    "    def perimeter(self):\n",
    "        return 2 * 3.14 * self.radius\n",
    "\n",
    "    def area(self):\n",
    "        return 3.14 * (self.radius ** 2)\n"
   ]
  },
  {
   "cell_type": "code",
   "execution_count": 129,
   "id": "e737104b",
   "metadata": {},
   "outputs": [],
   "source": [
    "@dataclass\n",
    "class Rectangle:\n",
    "    height: int|float\n",
    "    width: int|float\n",
    "\n",
    "    def perimeter(self):\n",
    "        return 2 * (self.height + self.width)\n",
    "    \n",
    "    def area(self):\n",
    "        return self.height * self.width"
   ]
  },
  {
   "cell_type": "code",
   "execution_count": 130,
   "id": "c80da9ea",
   "metadata": {},
   "outputs": [
    {
     "name": "stdout",
     "output_type": "stream",
     "text": [
      "Perimeter: 31.400000000000002\n",
      "Area: 78.5\n"
     ]
    }
   ],
   "source": [
    "\n",
    "circle = Circle(5)\n",
    "print('Perimeter:', circle.perimeter())\n",
    "print('Area:', circle.area())"
   ]
  },
  {
   "cell_type": "code",
   "execution_count": 131,
   "id": "5f0f9432",
   "metadata": {},
   "outputs": [
    {
     "data": {
      "text/plain": [
       "31.400000000000002"
      ]
     },
     "execution_count": 131,
     "metadata": {},
     "output_type": "execute_result"
    }
   ],
   "source": [
    "circle.perimeter()"
   ]
  },
  {
   "cell_type": "code",
   "execution_count": 132,
   "id": "87e70cf8",
   "metadata": {},
   "outputs": [
    {
     "data": {
      "text/plain": [
       "78.5"
      ]
     },
     "execution_count": 132,
     "metadata": {},
     "output_type": "execute_result"
    }
   ],
   "source": [
    "circle.area()"
   ]
  },
  {
   "cell_type": "code",
   "execution_count": 133,
   "id": "2964fc6d",
   "metadata": {},
   "outputs": [
    {
     "name": "stdout",
     "output_type": "stream",
     "text": [
      "Rectangle Perimeter: 16\n",
      "Rectangle Area: 15\n"
     ]
    }
   ],
   "source": [
    "rectangle = Rectangle(5, 3)\n",
    "print('Rectangle Perimeter:', rectangle.perimeter())\n",
    "print('Rectangle Area:', rectangle.area())"
   ]
  },
  {
   "cell_type": "code",
   "execution_count": 134,
   "id": "0ee90b03",
   "metadata": {},
   "outputs": [
    {
     "data": {
      "text/plain": [
       "16"
      ]
     },
     "execution_count": 134,
     "metadata": {},
     "output_type": "execute_result"
    }
   ],
   "source": [
    "rectangle.perimeter()"
   ]
  },
  {
   "cell_type": "code",
   "execution_count": 135,
   "id": "7ab730e8",
   "metadata": {},
   "outputs": [
    {
     "data": {
      "text/plain": [
       "15"
      ]
     },
     "execution_count": 135,
     "metadata": {},
     "output_type": "execute_result"
    }
   ],
   "source": [
    "rectangle.area()"
   ]
  },
  {
   "cell_type": "code",
   "execution_count": 136,
   "id": "a65968cd",
   "metadata": {},
   "outputs": [],
   "source": [
    "s1= Rectangle(4, 4)"
   ]
  },
  {
   "cell_type": "code",
   "execution_count": 148,
   "id": "742511ca",
   "metadata": {},
   "outputs": [
    {
     "data": {
      "text/plain": [
       "16"
      ]
     },
     "execution_count": 148,
     "metadata": {},
     "output_type": "execute_result"
    }
   ],
   "source": [
    "s1.perimeter()"
   ]
  },
  {
   "cell_type": "code",
   "execution_count": 138,
   "id": "52493a85",
   "metadata": {},
   "outputs": [
    {
     "data": {
      "text/plain": [
       "16"
      ]
     },
     "execution_count": 138,
     "metadata": {},
     "output_type": "execute_result"
    }
   ],
   "source": [
    "s1.area()"
   ]
  },
  {
   "cell_type": "code",
   "execution_count": 139,
   "id": "45d55947",
   "metadata": {},
   "outputs": [],
   "source": [
    "@dataclass\n",
    "class Triangle :\n",
    "    a : int|float\n",
    "    b : int|float\n",
    "    c : int|float\n",
    "        \n",
    "    def perimeter(self):\n",
    "        if (\n",
    "            (self.a + self.b > self.c) and \n",
    "            (self.b + self.c > self.a)  and \n",
    "            (self.c + self.a > self.b) ):\n",
    "             return self.a + self.b + self.c\n",
    "             \n",
    "      \n",
    "    def Area(self):\n",
    "        if self.perimeter() is not None:\n",
    "            s = self.perimeter()/2\n",
    "            return (s*(s-self.a)*(s-self.b)*(s-self.c))**(1/2)\n",
    "        else:\n",
    "            return 'Perimeter is None'"
   ]
  },
  {
   "cell_type": "code",
   "execution_count": 140,
   "id": "5f08ca19",
   "metadata": {},
   "outputs": [],
   "source": [
    "t = Triangle(23,34,45)"
   ]
  },
  {
   "cell_type": "code",
   "execution_count": 141,
   "id": "1dd4fd98",
   "metadata": {},
   "outputs": [
    {
     "data": {
      "text/plain": [
       "102"
      ]
     },
     "execution_count": 141,
     "metadata": {},
     "output_type": "execute_result"
    }
   ],
   "source": [
    "t.perimeter()"
   ]
  },
  {
   "cell_type": "code",
   "execution_count": 142,
   "id": "f55fbd6d",
   "metadata": {},
   "outputs": [],
   "source": [
    "rectangle =Rectangle(3,4)\n",
    "square =Rectangle(4,4) \n",
    "circle = Circle(5)\n",
    "triangle =Triangle(2,3,4)"
   ]
  },
  {
   "cell_type": "code",
   "execution_count": 146,
   "id": "4110ff80",
   "metadata": {},
   "outputs": [],
   "source": [
    "l=[rectangle,square,circle,triangle]"
   ]
  },
  {
   "cell_type": "code",
   "execution_count": 147,
   "id": "a848a6ab",
   "metadata": {},
   "outputs": [
    {
     "name": "stdout",
     "output_type": "stream",
     "text": [
      "Area is 12\n",
      "perimiter is 14\n",
      "Area is 16\n",
      "perimiter is 16\n",
      "Area is 78.5\n",
      "perimiter is 31.400000000000002\n"
     ]
    },
    {
     "ename": "AttributeError",
     "evalue": "'Triangle' object has no attribute 'area'",
     "output_type": "error",
     "traceback": [
      "\u001b[1;31m---------------------------------------------------------------------------\u001b[0m",
      "\u001b[1;31mAttributeError\u001b[0m                            Traceback (most recent call last)",
      "Cell \u001b[1;32mIn[147], line 2\u001b[0m\n\u001b[0;32m      1\u001b[0m \u001b[38;5;28;01mfor\u001b[39;00m i \u001b[38;5;129;01min\u001b[39;00m l:\n\u001b[1;32m----> 2\u001b[0m     \u001b[38;5;28mprint\u001b[39m(\u001b[38;5;124m'\u001b[39m\u001b[38;5;124mArea is\u001b[39m\u001b[38;5;124m'\u001b[39m,i\u001b[38;5;241m.\u001b[39marea())\n\u001b[0;32m      3\u001b[0m     \u001b[38;5;28mprint\u001b[39m( \u001b[38;5;124m'\u001b[39m\u001b[38;5;124mperimiter is\u001b[39m\u001b[38;5;124m'\u001b[39m,i\u001b[38;5;241m.\u001b[39mperimeter())\n",
      "\u001b[1;31mAttributeError\u001b[0m: 'Triangle' object has no attribute 'area'"
     ]
    }
   ],
   "source": [
    "for i in l:\n",
    "    print('Area is',i.area())\n",
    "    print( 'perimiter is',i.perimeter())"
   ]
  },
  {
   "cell_type": "code",
   "execution_count": 1,
   "id": "55617c6f",
   "metadata": {},
   "outputs": [
    {
     "name": "stdout",
     "output_type": "stream",
     "text": [
      "{'Madrid', 'Kabul', 'Tokyo', 'Seoul', 'Berlin', 'Delhi'}\n"
     ]
    }
   ],
   "source": [
    "cities = {\"Tokyo\", \"Madrid\", \"Berlin\", \"Delhi\"}\n",
    "cities2 = {\"Tokyo\", \"Seoul\", \"Kabul\", \"Madrid\"}\n",
    "cities3 = cities.union(cities2)\n",
    "print(cities3)"
   ]
  },
  {
   "cell_type": "code",
   "execution_count": 2,
   "id": "215f8d61",
   "metadata": {},
   "outputs": [
    {
     "name": "stdout",
     "output_type": "stream",
     "text": [
      "{'Madrid', 'Kabul', 'Tokyo', 'Seoul', 'Berlin', 'Delhi'}\n"
     ]
    }
   ],
   "source": [
    "cities = {\"Tokyo\", \"Madrid\", \"Berlin\", \"Delhi\"}\n",
    "cities2 = {\"Tokyo\", \"Seoul\", \"Kabul\", \"Madrid\"}\n",
    "cities.update(cities2)\n",
    "print(cities)"
   ]
  },
  {
   "cell_type": "code",
   "execution_count": 3,
   "id": "34febadb",
   "metadata": {},
   "outputs": [
    {
     "name": "stdout",
     "output_type": "stream",
     "text": [
      "{'Kabul', 'Tokyo', 'Madrid', 'Seoul'}\n"
     ]
    }
   ],
   "source": [
    "cities3 = cities.intersection(cities2)\n",
    "print(cities3)"
   ]
  },
  {
   "cell_type": "code",
   "execution_count": 5,
   "id": "a20bf00d",
   "metadata": {},
   "outputs": [
    {
     "name": "stdout",
     "output_type": "stream",
     "text": [
      "{'Hans': 'active', '景太郎': 'active'}\n"
     ]
    }
   ],
   "source": [
    "# Create a sample collection\n",
    "users = {'Hans': 'active', 'Éléonore': 'inactive', '景太郎': 'active'}\n",
    "\n",
    "# Strategy:  Iterate over a copy\n",
    "for user, status in users.copy().items():\n",
    "    if status == 'inactive':\n",
    "        del users[user]\n",
    "        print(users)\n",
    "\n",
    "# Strategy:  Create a new collection\n"
   ]
  },
  {
   "cell_type": "code",
   "execution_count": 6,
   "id": "f2235156",
   "metadata": {},
   "outputs": [
    {
     "name": "stdout",
     "output_type": "stream",
     "text": [
      "{'Hans': 'active', '景太郎': 'active'}\n",
      "{'Hans': 'active', '景太郎': 'active'}\n"
     ]
    }
   ],
   "source": [
    "active_users = {}\n",
    "for user, status in users.items():\n",
    "    if status == 'active':\n",
    "        active_users[user] = status\n",
    "        print(users)"
   ]
  },
  {
   "cell_type": "code",
   "execution_count": null,
   "id": "5cee4d70",
   "metadata": {},
   "outputs": [],
   "source": []
  },
  {
   "cell_type": "code",
   "execution_count": null,
   "id": "75fc1e90",
   "metadata": {},
   "outputs": [],
   "source": []
  },
  {
   "cell_type": "code",
   "execution_count": null,
   "id": "4a9bc6f5",
   "metadata": {},
   "outputs": [],
   "source": []
  }
 ],
 "metadata": {
  "kernelspec": {
   "display_name": "base",
   "language": "python",
   "name": "python3"
  },
  "language_info": {
   "codemirror_mode": {
    "name": "ipython",
    "version": 3
   },
   "file_extension": ".py",
   "mimetype": "text/x-python",
   "name": "python",
   "nbconvert_exporter": "python",
   "pygments_lexer": "ipython3",
   "version": "3.12.7"
  }
 },
 "nbformat": 4,
 "nbformat_minor": 5
}
