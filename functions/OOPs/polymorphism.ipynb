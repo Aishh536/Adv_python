{
 "cells": [
  {
   "cell_type": "markdown",
   "id": "ca585f15",
   "metadata": {},
   "source": [
    "# Polymorphism"
   ]
  },
  {
   "cell_type": "code",
   "execution_count": 7,
   "id": "e9bca682",
   "metadata": {},
   "outputs": [
    {
     "data": {
      "text/plain": [
       "2"
      ]
     },
     "execution_count": 7,
     "metadata": {},
     "output_type": "execute_result"
    }
   ],
   "source": [
    "dict1 = {'name' : ['Swaraj', 'Swara' , 'Aishu'] ,'Age' : [2.5 , 4.5 , 23]} \n",
    "len(dict1)\n"
   ]
  },
  {
   "cell_type": "code",
   "execution_count": 8,
   "id": "1076caa4",
   "metadata": {},
   "outputs": [],
   "source": [
    "import pandas as pd "
   ]
  },
  {
   "cell_type": "code",
   "execution_count": null,
   "id": "daa34422",
   "metadata": {},
   "outputs": [],
   "source": [
    "data = pd.DataFrame(dict1)\n"
   ]
  },
  {
   "cell_type": "code",
   "execution_count": 12,
   "id": "43ec6783",
   "metadata": {},
   "outputs": [
    {
     "data": {
      "text/plain": [
       "name    [Swaraj, Swara, Aishu]\n",
       "Age             [2.5, 4.5, 23]\n",
       "dtype: object"
      ]
     },
     "execution_count": 12,
     "metadata": {},
     "output_type": "execute_result"
    }
   ],
   "source": [
    "pd.Series(dict1)"
   ]
  },
  {
   "cell_type": "code",
   "execution_count": 10,
   "id": "ab74bb5b",
   "metadata": {},
   "outputs": [
    {
     "data": {
      "text/plain": [
       "3"
      ]
     },
     "execution_count": 10,
     "metadata": {},
     "output_type": "execute_result"
    }
   ],
   "source": [
    "len(data)"
   ]
  },
  {
   "cell_type": "markdown",
   "id": "bbb3c84f",
   "metadata": {},
   "source": [
    "## polymorphism in oprators"
   ]
  },
  {
   "cell_type": "code",
   "execution_count": 1,
   "id": "37d408c7",
   "metadata": {},
   "outputs": [
    {
     "data": {
      "text/plain": [
       "24"
      ]
     },
     "execution_count": 1,
     "metadata": {},
     "output_type": "execute_result"
    }
   ],
   "source": [
    "23+1"
   ]
  },
  {
   "cell_type": "code",
   "execution_count": 2,
   "id": "d6fb474e",
   "metadata": {},
   "outputs": [
    {
     "data": {
      "text/plain": [
       "124.32000000000001"
      ]
     },
     "execution_count": 2,
     "metadata": {},
     "output_type": "execute_result"
    }
   ],
   "source": [
    "34.56+89.76"
   ]
  },
  {
   "cell_type": "code",
   "execution_count": 4,
   "id": "ab1173c9",
   "metadata": {},
   "outputs": [
    {
     "data": {
      "text/plain": [
       "'praaaaatikkkkk'"
      ]
     },
     "execution_count": 4,
     "metadata": {},
     "output_type": "execute_result"
    }
   ],
   "source": [
    "'praaaaa' + 'tikkkkk'"
   ]
  },
  {
   "cell_type": "code",
   "execution_count": 5,
   "id": "fafefba0",
   "metadata": {},
   "outputs": [
    {
     "data": {
      "text/plain": [
       "[1, 2, 3, 4, 5, 6]"
      ]
     },
     "execution_count": 5,
     "metadata": {},
     "output_type": "execute_result"
    }
   ],
   "source": [
    "a=[1,2,3]\n",
    "b=[4,5,6]\n",
    "a+b\n",
    "    "
   ]
  },
  {
   "cell_type": "markdown",
   "id": "9a98f82e",
   "metadata": {},
   "source": [
    "# polymorphism in function"
   ]
  },
  {
   "cell_type": "code",
   "execution_count": null,
   "id": "4eab5c12",
   "metadata": {},
   "outputs": [],
   "source": []
  },
  {
   "cell_type": "code",
   "execution_count": null,
   "id": "15c415e4",
   "metadata": {},
   "outputs": [],
   "source": []
  },
  {
   "cell_type": "code",
   "execution_count": null,
   "id": "b043d633",
   "metadata": {},
   "outputs": [],
   "source": []
  },
  {
   "cell_type": "code",
   "execution_count": null,
   "id": "08f707ab",
   "metadata": {},
   "outputs": [],
   "source": []
  },
  {
   "cell_type": "code",
   "execution_count": 1,
   "id": "3efe4754",
   "metadata": {},
   "outputs": [],
   "source": [
    "from dataclasses import dataclass"
   ]
  },
  {
   "cell_type": "code",
   "execution_count": 2,
   "id": "577b99e6",
   "metadata": {},
   "outputs": [],
   "source": [
    "class India:\n",
    "     def Capital(self):\n",
    "          print('Capital of India is new Delhi.')\n",
    "                \n",
    "     def Language(self):\n",
    "         print('Hindi is widely spoken language in India.')\n",
    "\n",
    "class USA: \n",
    "     def Capital(self):\n",
    "          print('Capital of USA is  Wasgington.')\n",
    "                \n",
    "     def Language(self):\n",
    "         print('ENGLISH is widely spoken language in USA.')\n",
    "\n",
    "class France:    \n",
    "    def Capital(self):\n",
    "          print('Capital of France is Paris.')\n",
    "                \n",
    "    def Language(self):\n",
    "         print('French is widely spoken language in France.')\n"
   ]
  },
  {
   "cell_type": "code",
   "execution_count": 3,
   "id": "0fc7ab48",
   "metadata": {},
   "outputs": [],
   "source": [
    "a =India()"
   ]
  },
  {
   "cell_type": "code",
   "execution_count": 4,
   "id": "61be05aa",
   "metadata": {},
   "outputs": [
    {
     "name": "stdout",
     "output_type": "stream",
     "text": [
      "Capital of India is new Delhi.\n"
     ]
    }
   ],
   "source": [
    "a.Capital()"
   ]
  },
  {
   "cell_type": "code",
   "execution_count": 41,
   "id": "28a0a9f0",
   "metadata": {},
   "outputs": [
    {
     "name": "stdout",
     "output_type": "stream",
     "text": [
      "Hindi is widely spoken language in India.\n"
     ]
    }
   ],
   "source": [
    "a.Language()"
   ]
  },
  {
   "cell_type": "code",
   "execution_count": 5,
   "id": "4d4e643f",
   "metadata": {},
   "outputs": [],
   "source": [
    "b=USA()"
   ]
  },
  {
   "cell_type": "code",
   "execution_count": 6,
   "id": "68eb454e",
   "metadata": {},
   "outputs": [
    {
     "name": "stdout",
     "output_type": "stream",
     "text": [
      "Capital of USA is  Wasgington.\n"
     ]
    }
   ],
   "source": [
    "b.Capital()"
   ]
  },
  {
   "cell_type": "code",
   "execution_count": 7,
   "id": "3d5e0598",
   "metadata": {},
   "outputs": [
    {
     "name": "stdout",
     "output_type": "stream",
     "text": [
      "ENGLISH is widely spoken language in USA.\n"
     ]
    }
   ],
   "source": [
    "b.Language()"
   ]
  },
  {
   "cell_type": "code",
   "execution_count": 8,
   "id": "613445bd",
   "metadata": {},
   "outputs": [],
   "source": [
    "c =France()"
   ]
  },
  {
   "cell_type": "code",
   "execution_count": 9,
   "id": "3d5f7095",
   "metadata": {},
   "outputs": [
    {
     "name": "stdout",
     "output_type": "stream",
     "text": [
      "Capital of France is Paris.\n"
     ]
    }
   ],
   "source": [
    "c.Capital()"
   ]
  },
  {
   "cell_type": "code",
   "execution_count": 10,
   "id": "b74c4de5",
   "metadata": {},
   "outputs": [
    {
     "name": "stdout",
     "output_type": "stream",
     "text": [
      "French is widely spoken language in France.\n"
     ]
    }
   ],
   "source": [
    "c.Language()"
   ]
  },
  {
   "cell_type": "code",
   "execution_count": 11,
   "id": "d33b3c1c",
   "metadata": {},
   "outputs": [
    {
     "name": "stdout",
     "output_type": "stream",
     "text": [
      "Hindi is widely spoken language in India.\n",
      "None\n",
      "Capital of India is new Delhi.\n",
      "None\n",
      "\n",
      "---------------------------------------------\n",
      "\n",
      "ENGLISH is widely spoken language in USA.\n",
      "None\n",
      "Capital of USA is  Wasgington.\n",
      "None\n",
      "\n",
      "---------------------------------------------\n",
      "\n",
      "French is widely spoken language in France.\n",
      "None\n",
      "Capital of France is Paris.\n",
      "None\n",
      "\n",
      "---------------------------------------------\n",
      "\n"
     ]
    }
   ],
   "source": [
    "t=[a,b,c]\n",
    "for i in t:\n",
    "    print(i.Language())\n",
    "    print(i.Capital())\n",
    "    print()\n",
    "    print('---------------------------------------------')\n",
    "    print()"
   ]
  },
  {
   "cell_type": "code",
   "execution_count": 14,
   "id": "504d83f5",
   "metadata": {},
   "outputs": [],
   "source": [
    "class India:\n",
    "     def Capital(self):\n",
    "          return('Capital of India is new Delhi.')\n",
    "                \n",
    "     def Language(self):\n",
    "         return \"Hindi is widely spoken language in India\"\n",
    "\n",
    "class USA: \n",
    "     def Capital(self):\n",
    "          return('Capital of USA is  Wasgington.')\n",
    "                \n",
    "     def Language(self):\n",
    "         return('ENGLISH is widely spoken language in USA.')\n",
    "\n",
    "class France:    \n",
    "    def Capital(self):\n",
    "          return('Capital of France is Paris.')\n",
    "                \n",
    "    def Language(self):\n",
    "         return('French is widely spoken language in France.')\n"
   ]
  },
  {
   "cell_type": "code",
   "execution_count": 15,
   "id": "628b2080",
   "metadata": {},
   "outputs": [],
   "source": [
    "x = India()\n",
    "y= France()\n",
    "z= USA()"
   ]
  },
  {
   "cell_type": "code",
   "execution_count": 16,
   "id": "dbbc442c",
   "metadata": {},
   "outputs": [
    {
     "name": "stdout",
     "output_type": "stream",
     "text": [
      "Hindi is widely spoken language in India\n",
      "Capital of India is new Delhi.\n",
      "\n",
      "\n",
      "=================================================\n",
      "\n",
      "\n",
      "French is widely spoken language in France.\n",
      "Capital of France is Paris.\n",
      "\n",
      "\n",
      "=================================================\n",
      "\n",
      "\n",
      "ENGLISH is widely spoken language in USA.\n",
      "Capital of USA is  Wasgington.\n",
      "\n",
      "\n",
      "=================================================\n",
      "\n",
      "\n"
     ]
    }
   ],
   "source": [
    "t = [x ,y ,z]\n",
    "for i in t:\n",
    "    print(i.Language())\n",
    "    print(i.Capital())\n",
    "    print()\n",
    "    print()\n",
    "    print(\"=================================================\")\n",
    "    print()\n",
    "    print()"
   ]
  },
  {
   "cell_type": "markdown",
   "id": "1e63c3c3",
   "metadata": {},
   "source": [
    "# create class for circle to find area of peremeter"
   ]
  },
  {
   "cell_type": "code",
   "execution_count": 17,
   "id": "b2f564ba",
   "metadata": {},
   "outputs": [],
   "source": [
    "from dataclasses import dataclass\n"
   ]
  },
  {
   "cell_type": "code",
   "execution_count": 18,
   "id": "d27791a7",
   "metadata": {},
   "outputs": [],
   "source": [
    "@dataclass\n",
    "class Circle:\n",
    "    radius: int|float\n",
    "\n",
    "    def perimeter(self):\n",
    "        return 2 * 3.14 * self.radius\n",
    "\n",
    "    def area(self):\n",
    "        return 3.14 * (self.radius ** 2)\n"
   ]
  },
  {
   "cell_type": "code",
   "execution_count": 19,
   "id": "bbd2633e",
   "metadata": {},
   "outputs": [],
   "source": [
    "@dataclass\n",
    "class Rectangle:\n",
    "    height: int|float\n",
    "    width: int|float\n",
    "\n",
    "    def perimeter(self):\n",
    "        return 2 * (self.height + self.width)\n",
    "    \n",
    "    def area(self):\n",
    "        return self.height * self.width"
   ]
  },
  {
   "cell_type": "code",
   "execution_count": 21,
   "id": "13366657",
   "metadata": {},
   "outputs": [],
   "source": [
    "Circle = Circle(5)"
   ]
  },
  {
   "cell_type": "code",
   "execution_count": 22,
   "id": "2028f32f",
   "metadata": {},
   "outputs": [
    {
     "name": "stdout",
     "output_type": "stream",
     "text": [
      "perimeter 31.400000000000002\n"
     ]
    }
   ],
   "source": [
    "print('perimeter', Circle.perimeter())"
   ]
  },
  {
   "cell_type": "code",
   "execution_count": 23,
   "id": "c61243c1",
   "metadata": {},
   "outputs": [
    {
     "name": "stdout",
     "output_type": "stream",
     "text": [
      "Area 78.5\n"
     ]
    }
   ],
   "source": [
    "print('Area',Circle.area())"
   ]
  },
  {
   "cell_type": "code",
   "execution_count": 24,
   "id": "bb5759ee",
   "metadata": {},
   "outputs": [],
   "source": [
    "Rectangle = Rectangle(10,5)"
   ]
  },
  {
   "cell_type": "code",
   "execution_count": 25,
   "id": "2ad86630",
   "metadata": {},
   "outputs": [
    {
     "name": "stdout",
     "output_type": "stream",
     "text": [
      "perimeter 30\n"
     ]
    }
   ],
   "source": [
    "print('perimeter',Rectangle.perimeter())"
   ]
  },
  {
   "cell_type": "code",
   "execution_count": 26,
   "id": "e60a504f",
   "metadata": {},
   "outputs": [
    {
     "name": "stdout",
     "output_type": "stream",
     "text": [
      "Area 50\n"
     ]
    }
   ],
   "source": [
    "print('Area',Rectangle.area())"
   ]
  },
  {
   "cell_type": "code",
   "execution_count": 36,
   "id": "ce4d139d",
   "metadata": {},
   "outputs": [],
   "source": [
    "@dataclass\n",
    "class Triangle:\n",
    "    a : int|float\n",
    "    b : int|float\n",
    "    c : int|float\n",
    "    def perimeter(self):\n",
    "        if (self.a+self.b>self.c) and \\\n",
    "          (self.b +self.c > self.a) and  \\\n",
    "           (self.a+ self.c > self.b):\n",
    "           p = self.a+self.b+self.c\n",
    "           return  p\n",
    "   \n",
    "    def area(self):\n",
    "        if self.perimeter() is not None:\n",
    "            s  =  self.perimeter()/2\n",
    " \n",
    "            area  =  (s*(s-self.a)*(s-self.b)*(s-self.c))**1/2\n",
    "            return f\"area of Triangle is {area}\"\n",
    " \n",
    "        else:\n",
    "            print(f\"Sides do not form Triangle\")\n",
    " "
   ]
  },
  {
   "cell_type": "code",
   "execution_count": 37,
   "id": "69ff87cb",
   "metadata": {},
   "outputs": [],
   "source": [
    "Triangle = Triangle(23,15,16)"
   ]
  },
  {
   "cell_type": "code",
   "execution_count": 38,
   "id": "9d79e72f",
   "metadata": {},
   "outputs": [
    {
     "name": "stdout",
     "output_type": "stream",
     "text": [
      "Triangle(a=23, b=15, c=16)\n",
      "perimeter 54\n",
      "area area of Triangle is 7128.0\n",
      "\n",
      "===========================================================\n",
      "\n",
      "Circle(radius=5)\n",
      "perimeter 31.400000000000002\n",
      "area 78.5\n",
      "\n",
      "===========================================================\n",
      "\n",
      "Rectangle(height=10, width=5)\n",
      "perimeter 30\n",
      "area 50\n",
      "\n",
      "===========================================================\n",
      "\n"
     ]
    }
   ],
   "source": [
    "for i in [Triangle,Circle,Rectangle]:\n",
    "    print(i)\n",
    "    print('perimeter',i .perimeter())\n",
    "    print('area',i.area())\n",
    "    print()\n",
    "    print(\"===========================================================\")\n",
    "    print()"
   ]
  },
  {
   "cell_type": "code",
   "execution_count": null,
   "id": "e9321d29",
   "metadata": {},
   "outputs": [],
   "source": []
  },
  {
   "cell_type": "code",
   "execution_count": null,
   "id": "569472ab",
   "metadata": {},
   "outputs": [],
   "source": []
  },
  {
   "cell_type": "code",
   "execution_count": 129,
   "id": "e737104b",
   "metadata": {},
   "outputs": [],
   "source": [
    "@dataclass\n",
    "class Rectangle:\n",
    "    height: int|float\n",
    "    width: int|float\n",
    "\n",
    "    def perimeter(self):\n",
    "        return 2 * (self.height + self.width)\n",
    "    \n",
    "    def area(self):\n",
    "        return self.height * self.width"
   ]
  },
  {
   "cell_type": "code",
   "execution_count": 130,
   "id": "c80da9ea",
   "metadata": {},
   "outputs": [
    {
     "name": "stdout",
     "output_type": "stream",
     "text": [
      "Perimeter: 31.400000000000002\n",
      "Area: 78.5\n"
     ]
    }
   ],
   "source": [
    "\n",
    "circle = Circle(5)\n",
    "print('Perimeter:', circle.perimeter())\n",
    "print('Area:', circle.area())"
   ]
  },
  {
   "cell_type": "code",
   "execution_count": 131,
   "id": "5f0f9432",
   "metadata": {},
   "outputs": [
    {
     "data": {
      "text/plain": [
       "31.400000000000002"
      ]
     },
     "execution_count": 131,
     "metadata": {},
     "output_type": "execute_result"
    }
   ],
   "source": [
    "circle.perimeter()"
   ]
  },
  {
   "cell_type": "code",
   "execution_count": 132,
   "id": "87e70cf8",
   "metadata": {},
   "outputs": [
    {
     "data": {
      "text/plain": [
       "78.5"
      ]
     },
     "execution_count": 132,
     "metadata": {},
     "output_type": "execute_result"
    }
   ],
   "source": [
    "circle.area()"
   ]
  },
  {
   "cell_type": "code",
   "execution_count": 133,
   "id": "2964fc6d",
   "metadata": {},
   "outputs": [
    {
     "name": "stdout",
     "output_type": "stream",
     "text": [
      "Rectangle Perimeter: 16\n",
      "Rectangle Area: 15\n"
     ]
    }
   ],
   "source": [
    "rectangle = Rectangle(5, 3)\n",
    "print('Rectangle Perimeter:', rectangle.perimeter())\n",
    "print('Rectangle Area:', rectangle.area())"
   ]
  },
  {
   "cell_type": "code",
   "execution_count": 134,
   "id": "0ee90b03",
   "metadata": {},
   "outputs": [
    {
     "data": {
      "text/plain": [
       "16"
      ]
     },
     "execution_count": 134,
     "metadata": {},
     "output_type": "execute_result"
    }
   ],
   "source": [
    "rectangle.perimeter()"
   ]
  },
  {
   "cell_type": "code",
   "execution_count": 135,
   "id": "7ab730e8",
   "metadata": {},
   "outputs": [
    {
     "data": {
      "text/plain": [
       "15"
      ]
     },
     "execution_count": 135,
     "metadata": {},
     "output_type": "execute_result"
    }
   ],
   "source": [
    "rectangle.area()"
   ]
  },
  {
   "cell_type": "code",
   "execution_count": 136,
   "id": "a65968cd",
   "metadata": {},
   "outputs": [],
   "source": [
    "s1= Rectangle(4, 4)"
   ]
  },
  {
   "cell_type": "code",
   "execution_count": 148,
   "id": "742511ca",
   "metadata": {},
   "outputs": [
    {
     "data": {
      "text/plain": [
       "16"
      ]
     },
     "execution_count": 148,
     "metadata": {},
     "output_type": "execute_result"
    }
   ],
   "source": [
    "s1.perimeter()"
   ]
  },
  {
   "cell_type": "code",
   "execution_count": 138,
   "id": "52493a85",
   "metadata": {},
   "outputs": [
    {
     "data": {
      "text/plain": [
       "16"
      ]
     },
     "execution_count": 138,
     "metadata": {},
     "output_type": "execute_result"
    }
   ],
   "source": [
    "s1.area()"
   ]
  },
  {
   "cell_type": "code",
   "execution_count": 139,
   "id": "45d55947",
   "metadata": {},
   "outputs": [],
   "source": [
    "@dataclass\n",
    "class Triangle :\n",
    "    a : int|float\n",
    "    b : int|float\n",
    "    c : int|float\n",
    "        \n",
    "    def perimeter(self):\n",
    "        if (\n",
    "            (self.a + self.b > self.c) and \n",
    "            (self.b + self.c > self.a)  and \n",
    "            (self.c + self.a > self.b) ):\n",
    "             return self.a + self.b + self.c\n",
    "             \n",
    "      \n",
    "    def Area(self):\n",
    "        if self.perimeter() is not None:\n",
    "            s = self.perimeter()/2\n",
    "            return (s*(s-self.a)*(s-self.b)*(s-self.c))**(1/2)\n",
    "        else:\n",
    "            return 'Perimeter is None'"
   ]
  },
  {
   "cell_type": "code",
   "execution_count": 140,
   "id": "5f08ca19",
   "metadata": {},
   "outputs": [],
   "source": [
    "t = Triangle(23,34,45)"
   ]
  },
  {
   "cell_type": "code",
   "execution_count": 141,
   "id": "1dd4fd98",
   "metadata": {},
   "outputs": [
    {
     "data": {
      "text/plain": [
       "102"
      ]
     },
     "execution_count": 141,
     "metadata": {},
     "output_type": "execute_result"
    }
   ],
   "source": [
    "t.perimeter()"
   ]
  },
  {
   "cell_type": "code",
   "execution_count": 142,
   "id": "f55fbd6d",
   "metadata": {},
   "outputs": [],
   "source": [
    "rectangle =Rectangle(3,4)\n",
    "square =Rectangle(4,4) \n",
    "circle = Circle(5)\n",
    "triangle =Triangle(2,3,4)"
   ]
  },
  {
   "cell_type": "code",
   "execution_count": 146,
   "id": "4110ff80",
   "metadata": {},
   "outputs": [],
   "source": [
    "l=[rectangle,square,circle,triangle]"
   ]
  },
  {
   "cell_type": "code",
   "execution_count": 147,
   "id": "a848a6ab",
   "metadata": {},
   "outputs": [
    {
     "name": "stdout",
     "output_type": "stream",
     "text": [
      "Area is 12\n",
      "perimiter is 14\n",
      "Area is 16\n",
      "perimiter is 16\n",
      "Area is 78.5\n",
      "perimiter is 31.400000000000002\n"
     ]
    },
    {
     "ename": "AttributeError",
     "evalue": "'Triangle' object has no attribute 'area'",
     "output_type": "error",
     "traceback": [
      "\u001b[1;31m---------------------------------------------------------------------------\u001b[0m",
      "\u001b[1;31mAttributeError\u001b[0m                            Traceback (most recent call last)",
      "Cell \u001b[1;32mIn[147], line 2\u001b[0m\n\u001b[0;32m      1\u001b[0m \u001b[38;5;28;01mfor\u001b[39;00m i \u001b[38;5;129;01min\u001b[39;00m l:\n\u001b[1;32m----> 2\u001b[0m     \u001b[38;5;28mprint\u001b[39m(\u001b[38;5;124m'\u001b[39m\u001b[38;5;124mArea is\u001b[39m\u001b[38;5;124m'\u001b[39m,i\u001b[38;5;241m.\u001b[39marea())\n\u001b[0;32m      3\u001b[0m     \u001b[38;5;28mprint\u001b[39m( \u001b[38;5;124m'\u001b[39m\u001b[38;5;124mperimiter is\u001b[39m\u001b[38;5;124m'\u001b[39m,i\u001b[38;5;241m.\u001b[39mperimeter())\n",
      "\u001b[1;31mAttributeError\u001b[0m: 'Triangle' object has no attribute 'area'"
     ]
    }
   ],
   "source": [
    "for i in l:\n",
    "    print('Area is',i.area())\n",
    "    print( 'perimiter is',i.perimeter())"
   ]
  },
  {
   "cell_type": "code",
   "execution_count": 1,
   "id": "55617c6f",
   "metadata": {},
   "outputs": [
    {
     "name": "stdout",
     "output_type": "stream",
     "text": [
      "{'Madrid', 'Kabul', 'Tokyo', 'Seoul', 'Berlin', 'Delhi'}\n"
     ]
    }
   ],
   "source": [
    "cities = {\"Tokyo\", \"Madrid\", \"Berlin\", \"Delhi\"}\n",
    "cities2 = {\"Tokyo\", \"Seoul\", \"Kabul\", \"Madrid\"}\n",
    "cities3 = cities.union(cities2)\n",
    "print(cities3)"
   ]
  },
  {
   "cell_type": "code",
   "execution_count": 2,
   "id": "215f8d61",
   "metadata": {},
   "outputs": [
    {
     "name": "stdout",
     "output_type": "stream",
     "text": [
      "{'Madrid', 'Kabul', 'Tokyo', 'Seoul', 'Berlin', 'Delhi'}\n"
     ]
    }
   ],
   "source": [
    "cities = {\"Tokyo\", \"Madrid\", \"Berlin\", \"Delhi\"}\n",
    "cities2 = {\"Tokyo\", \"Seoul\", \"Kabul\", \"Madrid\"}\n",
    "cities.update(cities2)\n",
    "print(cities)"
   ]
  },
  {
   "cell_type": "code",
   "execution_count": 3,
   "id": "34febadb",
   "metadata": {},
   "outputs": [
    {
     "name": "stdout",
     "output_type": "stream",
     "text": [
      "{'Kabul', 'Tokyo', 'Madrid', 'Seoul'}\n"
     ]
    }
   ],
   "source": [
    "cities3 = cities.intersection(cities2)\n",
    "print(cities3)"
   ]
  },
  {
   "cell_type": "code",
   "execution_count": 5,
   "id": "a20bf00d",
   "metadata": {},
   "outputs": [
    {
     "name": "stdout",
     "output_type": "stream",
     "text": [
      "{'Hans': 'active', '景太郎': 'active'}\n"
     ]
    }
   ],
   "source": [
    "# Create a sample collection\n",
    "users = {'Hans': 'active', 'Éléonore': 'inactive', '景太郎': 'active'}\n",
    "\n",
    "# Strategy:  Iterate over a copy\n",
    "for user, status in users.copy().items():\n",
    "    if status == 'inactive':\n",
    "        del users[user]\n",
    "        print(users)\n",
    "\n",
    "# Strategy:  Create a new collection\n"
   ]
  },
  {
   "cell_type": "code",
   "execution_count": 6,
   "id": "f2235156",
   "metadata": {},
   "outputs": [
    {
     "name": "stdout",
     "output_type": "stream",
     "text": [
      "{'Hans': 'active', '景太郎': 'active'}\n",
      "{'Hans': 'active', '景太郎': 'active'}\n"
     ]
    }
   ],
   "source": [
    "active_users = {}\n",
    "for user, status in users.items():\n",
    "    if status == 'active':\n",
    "        active_users[user] = status\n",
    "        print(users)"
   ]
  },
  {
   "cell_type": "code",
   "execution_count": null,
   "id": "5cee4d70",
   "metadata": {},
   "outputs": [],
   "source": []
  },
  {
   "cell_type": "code",
   "execution_count": null,
   "id": "75fc1e90",
   "metadata": {},
   "outputs": [],
   "source": []
  },
  {
   "cell_type": "code",
   "execution_count": null,
   "id": "4a9bc6f5",
   "metadata": {},
   "outputs": [],
   "source": []
  }
 ],
 "metadata": {
  "kernelspec": {
   "display_name": "base",
   "language": "python",
   "name": "python3"
  },
  "language_info": {
   "codemirror_mode": {
    "name": "ipython",
    "version": 3
   },
   "file_extension": ".py",
   "mimetype": "text/x-python",
   "name": "python",
   "nbconvert_exporter": "python",
   "pygments_lexer": "ipython3",
   "version": "3.12.7"
  }
 },
 "nbformat": 4,
 "nbformat_minor": 5
}
