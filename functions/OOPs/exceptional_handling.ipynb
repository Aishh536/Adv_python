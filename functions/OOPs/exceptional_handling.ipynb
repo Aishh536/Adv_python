{
 "cells": [
  {
   "cell_type": "markdown",
   "id": "6110156c",
   "metadata": {},
   "source": [
    "##Exception handling"
   ]
  },
  {
   "cell_type": "code",
   "execution_count": 1,
   "id": "d557fd55",
   "metadata": {},
   "outputs": [
    {
     "data": {
      "text/plain": [
       "0.9583333333333334"
      ]
     },
     "execution_count": 1,
     "metadata": {},
     "output_type": "execute_result"
    }
   ],
   "source": [
    "23/24"
   ]
  },
  {
   "cell_type": "code",
   "execution_count": 2,
   "id": "d2f3da0a",
   "metadata": {},
   "outputs": [
    {
     "ename": "ZeroDivisionError",
     "evalue": "division by zero",
     "output_type": "error",
     "traceback": [
      "\u001b[1;31m---------------------------------------------------------------------------\u001b[0m",
      "\u001b[1;31mZeroDivisionError\u001b[0m                         Traceback (most recent call last)",
      "Cell \u001b[1;32mIn[2], line 1\u001b[0m\n\u001b[1;32m----> 1\u001b[0m \u001b[38;5;241m23\u001b[39m\u001b[38;5;241m/\u001b[39m\u001b[38;5;241m0\u001b[39m\n",
      "\u001b[1;31mZeroDivisionError\u001b[0m: division by zero"
     ]
    }
   ],
   "source": [
    "23/0"
   ]
  },
  {
   "cell_type": "code",
   "execution_count": 3,
   "id": "40cbebc1",
   "metadata": {},
   "outputs": [
    {
     "name": "stderr",
     "output_type": "stream",
     "text": [
      "<>:1: SyntaxWarning: 'int' object is not callable; perhaps you missed a comma?\n",
      "<>:1: SyntaxWarning: 'int' object is not callable; perhaps you missed a comma?\n",
      "C:\\Users\\aishw\\AppData\\Local\\Temp\\ipykernel_3304\\3824389642.py:1: SyntaxWarning: 'int' object is not callable; perhaps you missed a comma?\n",
      "  23()\n"
     ]
    },
    {
     "ename": "TypeError",
     "evalue": "'int' object is not callable",
     "output_type": "error",
     "traceback": [
      "\u001b[1;31m---------------------------------------------------------------------------\u001b[0m",
      "\u001b[1;31mTypeError\u001b[0m                                 Traceback (most recent call last)",
      "Cell \u001b[1;32mIn[3], line 1\u001b[0m\n\u001b[1;32m----> 1\u001b[0m \u001b[38;5;241m23\u001b[39m()\n",
      "\u001b[1;31mTypeError\u001b[0m: 'int' object is not callable"
     ]
    }
   ],
   "source": [
    "/23"
   ]
  },
  {
   "cell_type": "code",
   "execution_count": 5,
   "id": "b8f1bd0a",
   "metadata": {},
   "outputs": [
    {
     "ename": "TypeError",
     "evalue": "unsupported operand type(s) for /: 'str' and 'int'",
     "output_type": "error",
     "traceback": [
      "\u001b[1;31m---------------------------------------------------------------------------\u001b[0m",
      "\u001b[1;31mTypeError\u001b[0m                                 Traceback (most recent call last)",
      "Cell \u001b[1;32mIn[5], line 1\u001b[0m\n\u001b[1;32m----> 1\u001b[0m \u001b[38;5;124m'\u001b[39m\u001b[38;5;124mstr\u001b[39m\u001b[38;5;124m'\u001b[39m\u001b[38;5;241m/\u001b[39m\u001b[38;5;241m34\u001b[39m\n",
      "\u001b[1;31mTypeError\u001b[0m: unsupported operand type(s) for /: 'str' and 'int'"
     ]
    }
   ],
   "source": [
    "'str'/34"
   ]
  },
  {
   "cell_type": "code",
   "execution_count": 6,
   "id": "b3b5310f",
   "metadata": {},
   "outputs": [
    {
     "data": {
      "text/plain": [
       "123"
      ]
     },
     "execution_count": 6,
     "metadata": {},
     "output_type": "execute_result"
    }
   ],
   "source": [
    "s1='123'\n",
    "int(s1)"
   ]
  },
  {
   "cell_type": "code",
   "execution_count": 7,
   "id": "ade00fbe",
   "metadata": {},
   "outputs": [
    {
     "ename": "ValueError",
     "evalue": "invalid literal for int() with base 10: 'abc'",
     "output_type": "error",
     "traceback": [
      "\u001b[1;31m---------------------------------------------------------------------------\u001b[0m",
      "\u001b[1;31mValueError\u001b[0m                                Traceback (most recent call last)",
      "Cell \u001b[1;32mIn[7], line 2\u001b[0m\n\u001b[0;32m      1\u001b[0m s2\u001b[38;5;241m=\u001b[39m\u001b[38;5;124m'\u001b[39m\u001b[38;5;124mabc\u001b[39m\u001b[38;5;124m'\u001b[39m\n\u001b[1;32m----> 2\u001b[0m \u001b[38;5;28mint\u001b[39m(s2)\n",
      "\u001b[1;31mValueError\u001b[0m: invalid literal for int() with base 10: 'abc'"
     ]
    }
   ],
   "source": [
    "s2='abc'\n",
    "int(s2)"
   ]
  },
  {
   "cell_type": "code",
   "execution_count": null,
   "id": "ff0d3c68",
   "metadata": {},
   "outputs": [],
   "source": [
    "##Define function for division of two numbers"
   ]
  },
  {
   "cell_type": "code",
   "execution_count": 13,
   "id": "005fb158",
   "metadata": {},
   "outputs": [],
   "source": [
    "def Division():\n",
    "    num = float(input())\n",
    "    den = float(input())\n",
    "    div = num /den\n",
    "    print(f'division is between {num} and {den} -->{num}/{den}')\n",
    "    return div"
   ]
  },
  {
   "cell_type": "code",
   "execution_count": 14,
   "id": "777bb44d",
   "metadata": {},
   "outputs": [
    {
     "name": "stdout",
     "output_type": "stream",
     "text": [
      "division is between 3.0 and 4.0 -->3.0/4.0\n"
     ]
    },
    {
     "data": {
      "text/plain": [
       "0.75"
      ]
     },
     "execution_count": 14,
     "metadata": {},
     "output_type": "execute_result"
    }
   ],
   "source": [
    "Division()"
   ]
  },
  {
   "cell_type": "code",
   "execution_count": 15,
   "id": "2a2d2532",
   "metadata": {},
   "outputs": [
    {
     "name": "stdout",
     "output_type": "stream",
     "text": [
      "division is between 2.0 and 3.0 -->2.0/3.0\n",
      "hello\n"
     ]
    }
   ],
   "source": [
    "Division()\n",
    "print('hello')"
   ]
  },
  {
   "cell_type": "code",
   "execution_count": null,
   "id": "0081f2c7",
   "metadata": {},
   "outputs": [],
   "source": [
    "## use Try and Except"
   ]
  },
  {
   "cell_type": "code",
   "execution_count": 16,
   "id": "14f0c1eb",
   "metadata": {},
   "outputs": [],
   "source": [
    "def Division2():\n",
    "    try:\n",
    "      num = float(input())\n",
    "      den = float(input())\n",
    "      div = num /den\n",
    "      print(f'division is between {num} and {den} -->{num}/{den}')\n",
    "      return div\n",
    "    except Exception as e:\n",
    "       print('Exception occured',0)\n",
    "\n"
   ]
  },
  {
   "cell_type": "code",
   "execution_count": 18,
   "id": "f490076c",
   "metadata": {},
   "outputs": [
    {
     "name": "stdout",
     "output_type": "stream",
     "text": [
      "division is between 5.0 and 10.0 -->5.0/10.0\n"
     ]
    },
    {
     "data": {
      "text/plain": [
       "0.5"
      ]
     },
     "execution_count": 18,
     "metadata": {},
     "output_type": "execute_result"
    }
   ],
   "source": [
    "Division2()"
   ]
  },
  {
   "cell_type": "code",
   "execution_count": 19,
   "id": "cbf4b377",
   "metadata": {},
   "outputs": [
    {
     "name": "stdout",
     "output_type": "stream",
     "text": [
      "division is between 2.0 and 3.0 -->2.0/3.0\n",
      "hello\n",
      "24\n",
      "data\n"
     ]
    }
   ],
   "source": [
    "Division2()\n",
    "print('hello')\n",
    "print(12+12)\n",
    "print('data')"
   ]
  },
  {
   "cell_type": "code",
   "execution_count": 5,
   "id": "0ab4a48f",
   "metadata": {},
   "outputs": [],
   "source": [
    "def Division3():\n",
    "    try:\n",
    "        num = float(input())\n",
    "        den = float(input())\n",
    "        div = num/den\n",
    "        print(f'This is division between {num}  and {den} --> {num}/ {den}')\n",
    "        return div\n",
    "    except ValueError:\n",
    "        print('values should not be blank or string')\n",
    "        print('Values should be int or float')\n",
    "    except ZeroDivisionError :\n",
    "        print('Denominator Should not be 0')\n",
    "    except Exception as e:\n",
    "        print(f'Exception occured : {e}')"
   ]
  },
  {
   "cell_type": "code",
   "execution_count": 6,
   "id": "43ccf031",
   "metadata": {},
   "outputs": [
    {
     "name": "stdout",
     "output_type": "stream",
     "text": [
      "This is division between 34.0  and 5.0 --> 34.0/ 5.0\n"
     ]
    }
   ],
   "source": [
    "a= Division3()"
   ]
  },
  {
   "cell_type": "code",
   "execution_count": 7,
   "id": "6b26bde0",
   "metadata": {},
   "outputs": [
    {
     "name": "stdout",
     "output_type": "stream",
     "text": [
      "This is division between 4.0  and 5.0 --> 4.0/ 5.0\n",
      "0.8\n"
     ]
    },
    {
     "data": {
      "text/plain": [
       "0.8"
      ]
     },
     "execution_count": 7,
     "metadata": {},
     "output_type": "execute_result"
    }
   ],
   "source": [
    "a = Division3()\n",
    "print(a)\n",
    "round(a,3)"
   ]
  },
  {
   "cell_type": "code",
   "execution_count": 8,
   "id": "8199bd5a",
   "metadata": {},
   "outputs": [
    {
     "name": "stdout",
     "output_type": "stream",
     "text": [
      "Denominator Should not be 0\n"
     ]
    }
   ],
   "source": [
    "b=Division3()"
   ]
  },
  {
   "cell_type": "code",
   "execution_count": 12,
   "id": "b23eae35",
   "metadata": {},
   "outputs": [
    {
     "name": "stdout",
     "output_type": "stream",
     "text": [
      "This is division between 56.0  and 8.0 --> 56.0/ 8.0\n",
      "hello\n",
      "35\n"
     ]
    }
   ],
   "source": [
    "c =Division3()\n",
    "print('hello')\n",
    "print(12+23)"
   ]
  },
  {
   "cell_type": "code",
   "execution_count": 13,
   "id": "8701a2d2",
   "metadata": {},
   "outputs": [],
   "source": [
    "def valid_age():\n",
    "    try :\n",
    "        age = int(input('Please enter valid age here'))\n",
    "        if age < 0 or age > 110:\n",
    "            raise ValueError('Age should be between 0 to 110')\n",
    "        else :\n",
    "            print('Age of User is -->' , age )\n",
    "            return age\n",
    "        \n",
    "    except Exception as e:\n",
    "        print('Exception occured',e)"
   ]
  },
  {
   "cell_type": "code",
   "execution_count": 14,
   "id": "d0dd0c42",
   "metadata": {},
   "outputs": [
    {
     "name": "stdout",
     "output_type": "stream",
     "text": [
      "Age of User is --> 70\n"
     ]
    },
    {
     "data": {
      "text/plain": [
       "70"
      ]
     },
     "execution_count": 14,
     "metadata": {},
     "output_type": "execute_result"
    }
   ],
   "source": [
    "a = valid_age()\n",
    "a"
   ]
  },
  {
   "cell_type": "code",
   "execution_count": 15,
   "id": "283ed292",
   "metadata": {},
   "outputs": [
    {
     "name": "stdout",
     "output_type": "stream",
     "text": [
      "Exception occured Age should be between 0 to 110\n"
     ]
    }
   ],
   "source": [
    "a = valid_age()\n",
    "a"
   ]
  },
  {
   "cell_type": "code",
   "execution_count": 16,
   "id": "ecd9cbf0",
   "metadata": {},
   "outputs": [
    {
     "name": "stdout",
     "output_type": "stream",
     "text": [
      "Exception occured invalid literal for int() with base 10: 'tyui'\n"
     ]
    }
   ],
   "source": [
    "a = valid_age()\n",
    "a"
   ]
  },
  {
   "cell_type": "markdown",
   "id": "84434680",
   "metadata": {},
   "source": [
    "try-true\n",
    "except- when condition is not true\n",
    "else - when try is true\n",
    "finally - will always execute"
   ]
  },
  {
   "cell_type": "code",
   "execution_count": 19,
   "id": "ef826036",
   "metadata": {},
   "outputs": [],
   "source": [
    "import math"
   ]
  },
  {
   "cell_type": "code",
   "execution_count": 20,
   "id": "c7715084",
   "metadata": {},
   "outputs": [],
   "source": [
    "def square_root():\n",
    "    try:\n",
    "        num = float(input('please enter positive number'))\n",
    "        s = math.sqrt(num)\n",
    "\n",
    "    except Exception as e:\n",
    "        print(f'Exception occured , {e}')\n",
    "\n",
    "    else:\n",
    "        print(f'square root of {num} is {s}')\n",
    "        return s\n",
    "    finally:\n",
    "        print('Finally block will always executes')"
   ]
  },
  {
   "cell_type": "code",
   "execution_count": null,
   "id": "a27e3b42",
   "metadata": {},
   "outputs": [
    {
     "name": "stdout",
     "output_type": "stream",
     "text": [
      "square root of 123.0 is 11.090536506409418\n",
      "Finally block will always executes\n"
     ]
    },
    {
     "data": {
      "text/plain": [
       "11.090536506409418"
      ]
     },
     "execution_count": 21,
     "metadata": {},
     "output_type": "execute_result"
    }
   ],
   "source": [
    "#for 123\n",
    "num1=square_root()\n",
    "num1"
   ]
  },
  {
   "cell_type": "code",
   "execution_count": 25,
   "id": "95c4e2cd",
   "metadata": {},
   "outputs": [
    {
     "name": "stdout",
     "output_type": "stream",
     "text": [
      "Exception occured , math domain error\n",
      "Finally block will always executes\n"
     ]
    }
   ],
   "source": [
    "#for -123\n",
    "num1=square_root()\n",
    "num1"
   ]
  },
  {
   "cell_type": "code",
   "execution_count": null,
   "id": "89412827",
   "metadata": {},
   "outputs": [],
   "source": []
  },
  {
   "cell_type": "code",
   "execution_count": null,
   "id": "03dad38f",
   "metadata": {},
   "outputs": [],
   "source": []
  },
  {
   "cell_type": "code",
   "execution_count": null,
   "id": "babe967d",
   "metadata": {},
   "outputs": [],
   "source": []
  },
  {
   "cell_type": "code",
   "execution_count": null,
   "id": "2101affa",
   "metadata": {},
   "outputs": [],
   "source": []
  },
  {
   "cell_type": "code",
   "execution_count": null,
   "id": "e7d1acb7",
   "metadata": {},
   "outputs": [],
   "source": []
  },
  {
   "cell_type": "code",
   "execution_count": null,
   "id": "93e51ca8",
   "metadata": {},
   "outputs": [],
   "source": []
  },
  {
   "cell_type": "code",
   "execution_count": null,
   "id": "3cd83851",
   "metadata": {},
   "outputs": [],
   "source": []
  },
  {
   "cell_type": "code",
   "execution_count": null,
   "id": "ace6ecd7",
   "metadata": {},
   "outputs": [],
   "source": []
  },
  {
   "cell_type": "code",
   "execution_count": null,
   "id": "8f73965a",
   "metadata": {},
   "outputs": [],
   "source": []
  },
  {
   "cell_type": "code",
   "execution_count": null,
   "id": "5f17f134",
   "metadata": {},
   "outputs": [],
   "source": []
  },
  {
   "cell_type": "code",
   "execution_count": null,
   "id": "03f1d23d",
   "metadata": {},
   "outputs": [],
   "source": []
  },
  {
   "cell_type": "code",
   "execution_count": null,
   "id": "6f21ffc5",
   "metadata": {},
   "outputs": [],
   "source": []
  },
  {
   "cell_type": "code",
   "execution_count": null,
   "id": "3a0dc762",
   "metadata": {},
   "outputs": [],
   "source": []
  },
  {
   "cell_type": "code",
   "execution_count": null,
   "id": "18e9696f",
   "metadata": {},
   "outputs": [],
   "source": []
  },
  {
   "cell_type": "code",
   "execution_count": null,
   "id": "aec2e185",
   "metadata": {},
   "outputs": [],
   "source": []
  },
  {
   "cell_type": "code",
   "execution_count": null,
   "id": "8169d0dd",
   "metadata": {},
   "outputs": [],
   "source": []
  }
 ],
 "metadata": {
  "kernelspec": {
   "display_name": "base",
   "language": "python",
   "name": "python3"
  },
  "language_info": {
   "codemirror_mode": {
    "name": "ipython",
    "version": 3
   },
   "file_extension": ".py",
   "mimetype": "text/x-python",
   "name": "python",
   "nbconvert_exporter": "python",
   "pygments_lexer": "ipython3",
   "version": "3.12.7"
  }
 },
 "nbformat": 4,
 "nbformat_minor": 5
}
